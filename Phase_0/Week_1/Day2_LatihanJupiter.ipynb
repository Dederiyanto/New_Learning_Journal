{
 "cells": [
  {
   "cell_type": "code",
   "execution_count": 4,
   "id": "66a736bc",
   "metadata": {},
   "outputs": [],
   "source": [
    "angka = 15"
   ]
  },
  {
   "cell_type": "code",
   "execution_count": 5,
   "id": "8715f839",
   "metadata": {},
   "outputs": [
    {
     "data": {
      "text/plain": [
       "15"
      ]
     },
     "execution_count": 5,
     "metadata": {},
     "output_type": "execute_result"
    }
   ],
   "source": [
    "angka"
   ]
  },
  {
   "cell_type": "code",
   "execution_count": 7,
   "id": "6b7cfc94",
   "metadata": {},
   "outputs": [
    {
     "data": {
      "text/plain": [
       "False"
      ]
     },
     "execution_count": 7,
     "metadata": {},
     "output_type": "execute_result"
    }
   ],
   "source": [
    "5 == 15"
   ]
  },
  {
   "cell_type": "code",
   "execution_count": 9,
   "id": "914abaab",
   "metadata": {},
   "outputs": [
    {
     "data": {
      "text/plain": [
       "False"
      ]
     },
     "execution_count": 9,
     "metadata": {},
     "output_type": "execute_result"
    }
   ],
   "source": [
    "angka == 10"
   ]
  },
  {
   "cell_type": "code",
   "execution_count": 10,
   "id": "d6c4a1d0",
   "metadata": {},
   "outputs": [
    {
     "name": "stdout",
     "output_type": "stream",
     "text": [
      "15 lebih besar dari 10\n"
     ]
    }
   ],
   "source": [
    "angka = 15 \n",
    "print(f\"{angka} lebih besar dari 10\")"
   ]
  },
  {
   "cell_type": "code",
   "execution_count": 15,
   "id": "6dc5e3fa",
   "metadata": {},
   "outputs": [
    {
     "name": "stdout",
     "output_type": "stream",
     "text": [
      "12 lebih besar dari 10\n"
     ]
    }
   ],
   "source": [
    "angka = 12\n",
    "if angka > 10:\n",
    "    print(f\"{angka} lebih besar dari 10\")"
   ]
  },
  {
   "cell_type": "markdown",
   "id": "6e02a4bf",
   "metadata": {},
   "source": [
    "angka = 11\n",
    "if angka > 10:\n",
    "    print(f\"{angka} lebih besar dari 10\")\n",
    "    print (\"ini masih didalam kondisi if\")\n",
    "else : \n",
    "    print(f\"{angka} lebih besar dari 10\")"
   ]
  },
  {
   "cell_type": "markdown",
   "id": "6a639585",
   "metadata": {},
   "source": [
    "Looping"
   ]
  },
  {
   "cell_type": "code",
   "execution_count": 24,
   "id": "ee53a394",
   "metadata": {},
   "outputs": [
    {
     "name": "stdout",
     "output_type": "stream",
     "text": [
      "Halo Dede, apa kabar ?\n"
     ]
    }
   ],
   "source": [
    "print(\"Halo Dede, apa kabar ?\")"
   ]
  },
  {
   "cell_type": "code",
   "execution_count": 26,
   "id": "2a256bed",
   "metadata": {},
   "outputs": [
    {
     "name": "stdout",
     "output_type": "stream",
     "text": [
      "Halo Dede, apa kabar ?\n",
      "Halo Dede, apa kabar ?\n",
      "Halo Dede, apa kabar ?\n",
      "Halo Dede, apa kabar ?\n",
      "Halo Dede, apa kabar ?\n"
     ]
    }
   ],
   "source": [
    "kali = 0\n",
    "while kali < 5:\n",
    "    print(\"Halo Dede, apa kabar ?\")\n",
    "    kali = kali + 1"
   ]
  },
  {
   "cell_type": "code",
   "execution_count": null,
   "id": "e8ad8595",
   "metadata": {},
   "outputs": [],
   "source": []
  },
  {
   "cell_type": "code",
   "execution_count": 4,
   "id": "5c316f33",
   "metadata": {},
   "outputs": [
    {
     "name": "stdout",
     "output_type": "stream",
     "text": [
      "masukan pesanan anda :mie goreng\n",
      "masukan pesanan anda :cukup\n"
     ]
    }
   ],
   "source": [
    "list_makanan = []\n",
    "makanan = \"kosong\"\n",
    "while makanan != 'cukup': \n",
    "    if makanan != \"kosong\":\n",
    "        list_makanan.append(makanan)\n",
    "    makanan = input(\"masukan pesanan anda :\")"
   ]
  },
  {
   "cell_type": "code",
   "execution_count": null,
   "id": "4e7eb9e7",
   "metadata": {},
   "outputs": [],
   "source": [
    "    masukan pesanan anda : mie goreng\n",
    "    masukan pesanan anda : ayam goreng\n",
    "    masukan pesanan anda : es jeruk\n",
    "    masukan pesanan anda : cukup"
   ]
  },
  {
   "cell_type": "code",
   "execution_count": null,
   "id": "aa7cc30d",
   "metadata": {},
   "outputs": [],
   "source": []
  },
  {
   "cell_type": "code",
   "execution_count": 5,
   "id": "b874991a",
   "metadata": {},
   "outputs": [
    {
     "data": {
      "text/plain": [
       "['mie goreng']"
      ]
     },
     "execution_count": 5,
     "metadata": {},
     "output_type": "execute_result"
    }
   ],
   "source": [
    "list_makanan"
   ]
  },
  {
   "cell_type": "code",
   "execution_count": 28,
   "id": "017f44dc",
   "metadata": {},
   "outputs": [
    {
     "name": "stdout",
     "output_type": "stream",
     "text": [
      "7 x 1 = 7\n",
      "7 x 2 = 14\n",
      "7 x 3 = 21\n"
     ]
    }
   ],
   "source": [
    "# tabel perkalian\n",
    "print(f\"{7} x {1} = {7*1}\")\n",
    "print(f\"{7} x {2} = {7*2}\")\n",
    "print(f\"{7} x {3} = {7*3}\")"
   ]
  },
  {
   "cell_type": "code",
   "execution_count": 6,
   "id": "014c7614",
   "metadata": {},
   "outputs": [
    {
     "name": "stdout",
     "output_type": "stream",
     "text": [
      "saya jual durian\n",
      "saya jual semangka\n",
      "saya jual pisang\n",
      "saya jual nangka\n"
     ]
    }
   ],
   "source": [
    "# for loop\n",
    "buahbuahan = [\"durian\", \"semangka\", \"pisang\", \"nangka\"]\n",
    "for item in buahbuahan:\n",
    "    print(f\"saya jual {item}\")"
   ]
  },
  {
   "cell_type": "code",
   "execution_count": 20,
   "id": "32f2768b",
   "metadata": {},
   "outputs": [
    {
     "name": "stdout",
     "output_type": "stream",
     "text": [
      "7 x 1 = 7 \n",
      "7 x 2 = 14 \n",
      "7 x 3 = 21 \n",
      "7 x 4 = 28 \n",
      "7 x 5 = 35 \n",
      "7 x 6 = 42 \n",
      "7 x 7 = 49 \n",
      "7 x 8 = 56 \n",
      "7 x 9 = 63 \n",
      "7 x 10 = 70 \n"
     ]
    }
   ],
   "source": [
    "for i in (1,2,3,4,5,6,7,8,9,10):\n",
    "    print(f\"{7} x {i} = {7*i} \")"
   ]
  },
  {
   "cell_type": "code",
   "execution_count": 15,
   "id": "7e2a4801",
   "metadata": {},
   "outputs": [
    {
     "data": {
      "text/plain": [
       "[1, 2, 3, 4, 5, 6, 7, 8, 9, 10]"
      ]
     },
     "execution_count": 15,
     "metadata": {},
     "output_type": "execute_result"
    }
   ],
   "source": [
    "list(range(1, 11))"
   ]
  },
  {
   "cell_type": "code",
   "execution_count": 22,
   "id": "f0ec0ffd",
   "metadata": {},
   "outputs": [
    {
     "name": "stdout",
     "output_type": "stream",
     "text": [
      "7 x 1 = 7 \n",
      "7 x 2 = 14 \n",
      "7 x 3 = 21 \n",
      "7 x 4 = 28 \n",
      "7 x 5 = 35 \n",
      "7 x 6 = 42 \n"
     ]
    }
   ],
   "source": [
    "# special keyword : break\n",
    "for i in range(1, 11):\n",
    "    if i ==7:\n",
    "        break\n",
    "    print(f\"{7} x {i} = {7*i} \")"
   ]
  },
  {
   "cell_type": "code",
   "execution_count": 5,
   "id": "76248dfd",
   "metadata": {},
   "outputs": [],
   "source": [
    "from random import randint"
   ]
  },
  {
   "cell_type": "code",
   "execution_count": 25,
   "id": "69effc35",
   "metadata": {},
   "outputs": [
    {
     "data": {
      "text/plain": [
       "8"
      ]
     },
     "execution_count": 25,
     "metadata": {},
     "output_type": "execute_result"
    }
   ],
   "source": [
    "randint(1, 10)"
   ]
  },
  {
   "cell_type": "code",
   "execution_count": null,
   "id": "9a92364e",
   "metadata": {},
   "outputs": [],
   "source": [
    "angka_komputer =randint(1, 10)\n",
    "angka_tebakan =0\n",
    "kesempatan = 3\n",
    "while angka_tebakan !=angka_komputer and kesempatan > 0:\n",
    "    angka_tebakan =input(\"Masukan Tebakan Anda : \")\n",
    "    angka_tebakan =int(angka_tebakan)\n",
    "    if angka_tebakan < angka_komputer:\n",
    "        print(\"Angka terlalu kecil\")\n",
    "        kesempatan -= 1\n",
    "    elif angka_tebakan > angka_komputer:\n",
    "        print(\"Angka terlalu besar\")\n",
    "        kesempatan -= 1\n",
    "    else: \n",
    "        print(\"Sensational\")\n",
    "        print(f\"Angka komputer adalah {angka_komputer}\")\n",
    "    if kesempatan == 0:\n",
    "        print (\"Anda noob\")"
   ]
  }
 ],
 "metadata": {
  "kernelspec": {
   "display_name": "Python 3 (ipykernel)",
   "language": "python",
   "name": "python3"
  },
  "language_info": {
   "codemirror_mode": {
    "name": "ipython",
    "version": 3
   },
   "file_extension": ".py",
   "mimetype": "text/x-python",
   "name": "python",
   "nbconvert_exporter": "python",
   "pygments_lexer": "ipython3",
   "version": "3.9.7"
  }
 },
 "nbformat": 4,
 "nbformat_minor": 5
}
