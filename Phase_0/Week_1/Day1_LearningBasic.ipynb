{
 "cells": [
  {
   "cell_type": "code",
   "execution_count": 1,
   "metadata": {},
   "outputs": [
    {
     "name": "stdout",
     "output_type": "stream",
     "text": [
      "hello bokir\n"
     ]
    }
   ],
   "source": [
    "print('hello bokir')"
   ]
  },
  {
   "cell_type": "markdown",
   "metadata": {},
   "source": [
    "# Basic Python"
   ]
  },
  {
   "cell_type": "markdown",
   "metadata": {},
   "source": [
    "## String"
   ]
  },
  {
   "cell_type": "code",
   "execution_count": 1,
   "metadata": {},
   "outputs": [
    {
     "name": "stdout",
     "output_type": "stream",
     "text": [
      "Bokir\n",
      "<class 'str'>\n"
     ]
    }
   ],
   "source": [
    "print(\"Bokir\")\n",
    "print(type(\"Bokir\")) #cek type data"
   ]
  },
  {
   "cell_type": "code",
   "execution_count": 2,
   "metadata": {},
   "outputs": [
    {
     "name": "stdout",
     "output_type": "stream",
     "text": [
      "Bokir\n",
      "Tangerang\n",
      "Selatan\n"
     ]
    }
   ],
   "source": [
    "print('''Bokir\n",
    "Tangerang\n",
    "Selatan''')"
   ]
  },
  {
   "cell_type": "code",
   "execution_count": 3,
   "metadata": {},
   "outputs": [
    {
     "name": "stdout",
     "output_type": "stream",
     "text": [
      "Bokir Tangerang\n"
     ]
    }
   ],
   "source": [
    "print('Bokir \\\n",
    "Tangerang')"
   ]
  },
  {
   "cell_type": "code",
   "execution_count": 4,
   "metadata": {},
   "outputs": [
    {
     "name": "stdout",
     "output_type": "stream",
     "text": [
      "Bokir \n",
      " Tangerang\n"
     ]
    }
   ],
   "source": [
    "print('Bokir \\n Tangerang')"
   ]
  },
  {
   "cell_type": "markdown",
   "metadata": {},
   "source": [
    "## Interger"
   ]
  },
  {
   "cell_type": "code",
   "execution_count": 6,
   "metadata": {},
   "outputs": [
    {
     "name": "stdout",
     "output_type": "stream",
     "text": [
      "2\n",
      "<class 'int'>\n"
     ]
    }
   ],
   "source": [
    "print(2)\n",
    "print(type(2)) #cek type data"
   ]
  },
  {
   "cell_type": "code",
   "execution_count": 8,
   "metadata": {},
   "outputs": [
    {
     "name": "stdout",
     "output_type": "stream",
     "text": [
      "22\n"
     ]
    }
   ],
   "source": [
    "print('2' + '2') #pengabungan 2 str"
   ]
  },
  {
   "cell_type": "code",
   "execution_count": 7,
   "metadata": {},
   "outputs": [
    {
     "name": "stdout",
     "output_type": "stream",
     "text": [
      "4\n"
     ]
    }
   ],
   "source": [
    "print(2 + 2) #operasi penjumlahan"
   ]
  },
  {
   "cell_type": "code",
   "execution_count": 9,
   "metadata": {},
   "outputs": [],
   "source": [
    "angka_pertama= 2"
   ]
  },
  {
   "cell_type": "code",
   "execution_count": 10,
   "metadata": {},
   "outputs": [
    {
     "name": "stdout",
     "output_type": "stream",
     "text": [
      "angka: 2\n"
     ]
    }
   ],
   "source": [
    "print('angka:', angka_pertama)"
   ]
  },
  {
   "cell_type": "markdown",
   "metadata": {},
   "source": [
    "## float"
   ]
  },
  {
   "cell_type": "code",
   "execution_count": 15,
   "metadata": {},
   "outputs": [
    {
     "name": "stdout",
     "output_type": "stream",
     "text": [
      "1.2\n",
      "<class 'float'>\n"
     ]
    }
   ],
   "source": [
    "print(1.2)\n",
    "print(type(1.2)) #cek type data"
   ]
  },
  {
   "cell_type": "code",
   "execution_count": 12,
   "metadata": {},
   "outputs": [
    {
     "name": "stdout",
     "output_type": "stream",
     "text": [
      "angka1.2\n"
     ]
    }
   ],
   "source": [
    "print('angka' + '1.2')"
   ]
  },
  {
   "cell_type": "code",
   "execution_count": 13,
   "metadata": {},
   "outputs": [
    {
     "name": "stdout",
     "output_type": "stream",
     "text": [
      "3.2\n"
     ]
    }
   ],
   "source": [
    "print(2 + 1.2)"
   ]
  },
  {
   "cell_type": "code",
   "execution_count": 16,
   "metadata": {},
   "outputs": [
    {
     "name": "stdout",
     "output_type": "stream",
     "text": [
      "0.00042\n"
     ]
    }
   ],
   "source": [
    "print(4.2e-4)"
   ]
  },
  {
   "cell_type": "markdown",
   "metadata": {},
   "source": [
    "## Comments"
   ]
  },
  {
   "cell_type": "code",
   "execution_count": 17,
   "metadata": {},
   "outputs": [
    {
     "name": "stdout",
     "output_type": "stream",
     "text": [
      "hello\n"
     ]
    }
   ],
   "source": [
    "# print hello\n",
    "print(\"hello\") # print hello"
   ]
  },
  {
   "cell_type": "code",
   "execution_count": 18,
   "metadata": {},
   "outputs": [
    {
     "name": "stdout",
     "output_type": "stream",
     "text": [
      "hello\n"
     ]
    }
   ],
   "source": [
    "'''print hello'''\n",
    "print(\"hello\")"
   ]
  },
  {
   "cell_type": "markdown",
   "metadata": {},
   "source": [
    "## Bool"
   ]
  },
  {
   "cell_type": "code",
   "execution_count": 19,
   "metadata": {},
   "outputs": [
    {
     "name": "stdout",
     "output_type": "stream",
     "text": [
      "True\n"
     ]
    }
   ],
   "source": [
    "print(bool(2))"
   ]
  },
  {
   "cell_type": "markdown",
   "metadata": {},
   "source": [
    "## casting & comments"
   ]
  },
  {
   "cell_type": "code",
   "execution_count": 20,
   "metadata": {},
   "outputs": [
    {
     "name": "stdout",
     "output_type": "stream",
     "text": [
      "<class 'str'>\n"
     ]
    }
   ],
   "source": [
    "x= str(2) # ubah int ke dalam str\n",
    "print(type(x))"
   ]
  },
  {
   "cell_type": "code",
   "execution_count": 21,
   "metadata": {},
   "outputs": [
    {
     "name": "stdout",
     "output_type": "stream",
     "text": [
      "2 3 4 4\n"
     ]
    }
   ],
   "source": [
    "x = int(2)\n",
    "y = int(3.8)\n",
    "z = int(\"4\")\n",
    "k= round(3.8) #untuk menjadikan bilangan bulat\n",
    "print(x, y, z, k)"
   ]
  },
  {
   "cell_type": "code",
   "execution_count": 22,
   "metadata": {},
   "outputs": [
    {
     "data": {
      "text/plain": [
       "6"
      ]
     },
     "execution_count": 22,
     "metadata": {},
     "output_type": "execute_result"
    }
   ],
   "source": [
    "z+x"
   ]
  },
  {
   "cell_type": "code",
   "execution_count": 23,
   "metadata": {},
   "outputs": [
    {
     "name": "stdout",
     "output_type": "stream",
     "text": [
      "4\n"
     ]
    }
   ],
   "source": [
    "x = 2\n",
    "z = '2' #string\n",
    "\n",
    "print(int(z) + x)"
   ]
  },
  {
   "cell_type": "code",
   "execution_count": 24,
   "metadata": {},
   "outputs": [
    {
     "name": "stdout",
     "output_type": "stream",
     "text": [
      "2.2\n",
      "4.2\n"
     ]
    }
   ],
   "source": [
    "x = 2.2\n",
    "y = 2 \n",
    "\n",
    "z = x + y\n",
    "print(x)\n",
    "print(z)"
   ]
  },
  {
   "cell_type": "markdown",
   "metadata": {},
   "source": [
    "## Float"
   ]
  },
  {
   "cell_type": "code",
   "execution_count": 25,
   "metadata": {},
   "outputs": [
    {
     "name": "stdout",
     "output_type": "stream",
     "text": [
      "5.77\n"
     ]
    }
   ],
   "source": [
    "x = round(5.76543, 2) #setting jumlah digit setelah koma\n",
    "# y = float(5.76543, 2) #tidak bisa penggunaan float seperti ini\n",
    "print(x)\n",
    "# print(y)"
   ]
  },
  {
   "cell_type": "code",
   "execution_count": 26,
   "metadata": {},
   "outputs": [
    {
     "name": "stdout",
     "output_type": "stream",
     "text": [
      "2.0 3.8 4.0\n"
     ]
    }
   ],
   "source": [
    "x = float(2)\n",
    "y = float(3.8)\n",
    "z = float(\"4\")\n",
    "print(x, y, z)"
   ]
  },
  {
   "cell_type": "code",
   "execution_count": 1,
   "metadata": {},
   "outputs": [
    {
     "name": "stdout",
     "output_type": "stream",
     "text": [
      "600\n"
     ]
    }
   ],
   "source": [
    "# hitung luas tanah\n",
    "panjang= 20\n",
    "lebar= 30\n",
    "\n",
    "print(panjang * lebar)"
   ]
  },
  {
   "cell_type": "code",
   "execution_count": 2,
   "metadata": {},
   "outputs": [
    {
     "data": {
      "text/plain": [
       "600"
      ]
     },
     "execution_count": 2,
     "metadata": {},
     "output_type": "execute_result"
    }
   ],
   "source": [
    "panjang * lebar"
   ]
  },
  {
   "cell_type": "markdown",
   "metadata": {},
   "source": [
    "## Variable"
   ]
  },
  {
   "cell_type": "code",
   "execution_count": 3,
   "metadata": {},
   "outputs": [
    {
     "name": "stdout",
     "output_type": "stream",
     "text": [
      "<class 'float'>\n",
      "31\n",
      "33.0\n"
     ]
    }
   ],
   "source": [
    "x = 32.2\n",
    "y = int(31)\n",
    "z = 33\n",
    "\n",
    "print(type(x))\n",
    "print(y)\n",
    "print(float(z))"
   ]
  },
  {
   "cell_type": "code",
   "execution_count": 5,
   "metadata": {},
   "outputs": [],
   "source": [
    "Var1 = 'Dede'\n",
    "Var2 = 'Riyanto'"
   ]
  },
  {
   "cell_type": "code",
   "execution_count": 6,
   "metadata": {},
   "outputs": [
    {
     "name": "stdout",
     "output_type": "stream",
     "text": [
      "Dede\n",
      "Riyanto\n",
      "Bokir\n"
     ]
    }
   ],
   "source": [
    "x, y, z = \"Dede\", \"Riyanto\", \"Bokir\"\n",
    "print(x) \n",
    "print(y) \n",
    "print(z)"
   ]
  },
  {
   "cell_type": "code",
   "execution_count": 8,
   "metadata": {},
   "outputs": [
    {
     "name": "stdout",
     "output_type": "stream",
     "text": [
      "Dede\n",
      "Dede\n",
      "Dede\n"
     ]
    }
   ],
   "source": [
    "x = y = z = \"Dede\"\n",
    "print(x) \n",
    "print(y) \n",
    "print(z)"
   ]
  },
  {
   "cell_type": "markdown",
   "metadata": {},
   "source": [
    "## Multi words Variable Names"
   ]
  },
  {
   "cell_type": "code",
   "execution_count": 9,
   "metadata": {},
   "outputs": [],
   "source": [
    "#Camel Case\n",
    "myVariableName = \"Dede\"\n",
    "\n",
    "#Pascal Case\n",
    "MyVariableName = \"Dede\"\n",
    "\n",
    "#Snake Case\n",
    "my_variable_name = \"Dede\""
   ]
  },
  {
   "cell_type": "markdown",
   "metadata": {},
   "source": [
    "## Operator"
   ]
  },
  {
   "cell_type": "code",
   "execution_count": 1,
   "metadata": {},
   "outputs": [
    {
     "data": {
      "text/plain": [
       "30"
      ]
     },
     "execution_count": 1,
     "metadata": {},
     "output_type": "execute_result"
    }
   ],
   "source": [
    "a = 10\n",
    "b = 20 \n",
    "a + b "
   ]
  },
  {
   "cell_type": "code",
   "execution_count": 2,
   "metadata": {},
   "outputs": [
    {
     "data": {
      "text/plain": [
       "25"
      ]
     },
     "execution_count": 2,
     "metadata": {},
     "output_type": "execute_result"
    }
   ],
   "source": [
    "a = 10\n",
    "b = 20 \n",
    "a + b - 5"
   ]
  },
  {
   "cell_type": "markdown",
   "metadata": {},
   "source": [
    "### Aritmetic Operator"
   ]
  },
  {
   "cell_type": "code",
   "execution_count": 1,
   "metadata": {},
   "outputs": [
    {
     "name": "stdout",
     "output_type": "stream",
     "text": [
      "7\n",
      "1\n",
      "12\n",
      "1.3333333333333333\n",
      "1\n",
      "64\n"
     ]
    }
   ],
   "source": [
    "# Here are some examples of these operators in use:\n",
    "\n",
    "a = 4\n",
    "b = 3\n",
    "\n",
    "print(a + b)\n",
    "print(a - b)\n",
    "print(a * b)\n",
    "print(a / b)\n",
    "print(a % b)\n",
    "print(a ** b)"
   ]
  },
  {
   "cell_type": "code",
   "execution_count": 2,
   "metadata": {},
   "outputs": [
    {
     "data": {
      "text/plain": [
       "2.0"
      ]
     },
     "execution_count": 2,
     "metadata": {},
     "output_type": "execute_result"
    }
   ],
   "source": [
    "# The result of standard division (/) is always a float, even if the dividend is evenly divisible by the divisor:\n",
    "\n",
    "10 / 5"
   ]
  },
  {
   "cell_type": "markdown",
   "metadata": {},
   "source": [
    "### Comparison Operator"
   ]
  },
  {
   "cell_type": "code",
   "execution_count": 3,
   "metadata": {},
   "outputs": [
    {
     "name": "stdout",
     "output_type": "stream",
     "text": [
      "False\n",
      "True\n",
      "True\n",
      "False\n",
      "True\n",
      "True\n",
      "True\n"
     ]
    }
   ],
   "source": [
    "# Here are examples of the comparison operators in use:\n",
    "\n",
    "a = 10\n",
    "b = 20\n",
    "print(a == b)\n",
    "\n",
    "print(a != b)\n",
    "\n",
    "print(a <= b)\n",
    "\n",
    "print(a >= b)\n",
    "\n",
    "\n",
    "a = 30\n",
    "b = 30\n",
    "print(a == b)\n",
    "\n",
    "print(a <= b)\n",
    "\n",
    "print(a >= b)"
   ]
  },
  {
   "cell_type": "markdown",
   "metadata": {},
   "source": [
    "### String Manipulation"
   ]
  },
  {
   "cell_type": "code",
   "execution_count": 4,
   "metadata": {},
   "outputs": [
    {
     "name": "stdout",
     "output_type": "stream",
     "text": [
      "foobar\n",
      "foobarbaz\n",
      "Hacktiv8 Inalum\n"
     ]
    }
   ],
   "source": [
    "# + Operators\n",
    "s = 'foo'\n",
    "t = 'bar'\n",
    "u = 'baz'\n",
    "\n",
    "print(s + t)\n",
    "\n",
    "print(s + t + u)\n",
    "\n",
    "\n",
    "print('Hacktiv8 ' + 'Inalum')"
   ]
  },
  {
   "cell_type": "code",
   "execution_count": 5,
   "metadata": {},
   "outputs": [
    {
     "data": {
      "text/plain": [
       "'foo.foo.foo.foo.'"
      ]
     },
     "execution_count": 5,
     "metadata": {},
     "output_type": "execute_result"
    }
   ],
   "source": [
    "# * Operators\n",
    "\n",
    "s = 'foo.'\n",
    "\n",
    "s * 4"
   ]
  },
  {
   "cell_type": "code",
   "execution_count": 6,
   "metadata": {},
   "outputs": [
    {
     "name": "stdout",
     "output_type": "stream",
     "text": [
      "True\n",
      "False\n"
     ]
    }
   ],
   "source": [
    "# in Operators\n",
    "\n",
    "s = 'foo'\n",
    "\n",
    "print(s in 'That food for us')\n",
    "\n",
    "print(s in 'That good for us')"
   ]
  },
  {
   "cell_type": "code",
   "execution_count": 7,
   "metadata": {},
   "outputs": [
    {
     "name": "stdout",
     "output_type": "stream",
     "text": [
      "Hacktiv8\n",
      "hacktiv8\n",
      "hACKtiv8\n",
      "Hacktiv8\n",
      "HACKTIV8\n"
     ]
    }
   ],
   "source": [
    "# Case Conversion\n",
    "s = 'HackTIV8'\n",
    "\n",
    "# Capitalize\n",
    "print(s.capitalize())\n",
    "\n",
    "# Lower\n",
    "print(s.lower())\n",
    "\n",
    "# Swapcase\n",
    "print(s.swapcase())\n",
    "\n",
    "# Title\n",
    "print(s.title())\n",
    "\n",
    "# Uppercase\n",
    "print(s.upper())"
   ]
  },
  {
   "cell_type": "markdown",
   "metadata": {},
   "source": [
    "### Slicing"
   ]
  },
  {
   "cell_type": "code",
   "execution_count": 9,
   "metadata": {},
   "outputs": [
    {
     "name": "stdout",
     "output_type": "stream",
     "text": [
      "e\n",
      "12\n",
      "False\n",
      "True\n"
     ]
    }
   ],
   "source": [
    "a = 'Dede Riyanto' \n",
    "print(a[3]) #akses string\n",
    "print(len(a)) #mengetahui panjangan atau lebih dari string\n",
    "print(\"Riyan2\" in a) #check string \n",
    "print(\"kenshin\" not in a)"
   ]
  },
  {
   "cell_type": "code",
   "execution_count": 10,
   "metadata": {},
   "outputs": [
    {
     "name": "stdout",
     "output_type": "stream",
     "text": [
      "Dede Riyanto\n"
     ]
    }
   ],
   "source": [
    "print(a[:]) #dari indeks 0 samapai akhir"
   ]
  },
  {
   "cell_type": "code",
   "execution_count": 11,
   "metadata": {},
   "outputs": [
    {
     "name": "stdout",
     "output_type": "stream",
     "text": [
      "o\n",
      "yan\n",
      "Dede\n",
      "anto\n",
      "d i\n"
     ]
    }
   ],
   "source": [
    "print(a[-1]) #indeks akhir\n",
    "print(a[-5:-2]) #slicing str dari indeks -5 sampai -3\n",
    "print(a[:-8]) #dari awal sampai indeks -9 \n",
    "print(a[-4:]) #dari indeks -4 sampai akhir \n",
    "print(a[-10:-5:2]) #dari indeks -10 sampai -6, step 2 (penambahan 2 setiap indeks)"
   ]
  },
  {
   "cell_type": "markdown",
   "metadata": {},
   "source": [
    "### format string"
   ]
  },
  {
   "cell_type": "code",
   "execution_count": 14,
   "metadata": {},
   "outputs": [
    {
     "name": "stdout",
     "output_type": "stream",
     "text": [
      "hallo, umur saya adalah 25\n"
     ]
    }
   ],
   "source": [
    "#penggunaan string format\n",
    "umur = 25\n",
    "txt =\"hallo, umur saya adalah {}\"\n",
    "print(txt.format(umur))"
   ]
  },
  {
   "cell_type": "code",
   "execution_count": 18,
   "metadata": {},
   "outputs": [
    {
     "name": "stdout",
     "output_type": "stream",
     "text": [
      "hallo, nama saya dede, umur saya adalah 25\n"
     ]
    }
   ],
   "source": [
    "nama = 'dede'\n",
    "umur = 25\n",
    "txt =\"hallo, nama saya {}, umur saya adalah {}\"\n",
    "print(txt.format(nama, umur)) #cetak bedasarkan urutan arguments"
   ]
  },
  {
   "cell_type": "code",
   "execution_count": 2,
   "metadata": {},
   "outputs": [
    {
     "name": "stdout",
     "output_type": "stream",
     "text": [
      "harganya harga 490000.00 rupiah!\n"
     ]
    }
   ],
   "source": [
    "txt = \"harganya harga {price:.2f} rupiah!\" #jadikan ke float\n",
    "print(txt.format(price = 490000))"
   ]
  },
  {
   "cell_type": "code",
   "execution_count": 3,
   "metadata": {},
   "outputs": [
    {
     "name": "stdout",
     "output_type": "stream",
     "text": [
      "dede berumur 25, memiliki tinggi 168.50\n"
     ]
    }
   ],
   "source": [
    "nama = \"dede\"\n",
    "umur = 25 \n",
    "tinggi = 168.5 \n",
    "print(\"%s berumur %d, memiliki tinggi %.2f\" % (nama, umur, tinggi)) #dengan %"
   ]
  },
  {
   "cell_type": "markdown",
   "metadata": {},
   "source": [
    "### list"
   ]
  },
  {
   "cell_type": "code",
   "execution_count": 1,
   "metadata": {},
   "outputs": [
    {
     "name": "stdout",
     "output_type": "stream",
     "text": [
      "['mobil', 'motor', 'becak', 'sepeda', 'pesawat', 'kapal laut']\n",
      "[1, 2, 3, 4, 5]\n",
      "[1, 3.4, 'a string', True]\n",
      "4\n",
      "<class 'list'>\n"
     ]
    }
   ],
   "source": [
    "list1 = [\"mobil\", \"motor\", \"becak\", \"sepeda\", \"pesawat\", \"kapal laut\"]\n",
    "list2 = [1, 2, 3, 4, 5 ]\n",
    "list3 = [1, 3.4, 'a string', True]\n",
    "print(list1)\n",
    "print(list2)\n",
    "print(list3)\n",
    "print(len(list3))\n",
    "print(type(list3))"
   ]
  },
  {
   "cell_type": "code",
   "execution_count": 4,
   "metadata": {},
   "outputs": [
    {
     "name": "stdout",
     "output_type": "stream",
     "text": [
      "mobil\n",
      "['motor']\n",
      "['motor', 'becak']\n",
      "['motor', 'sepeda', 'kapal laut']\n",
      "kapal laut\n",
      "['becak', 'sepeda']\n",
      "['mobil', 'becak']\n"
     ]
    }
   ],
   "source": [
    "list1 = [\"mobil\", \"motor\", \"becak\", \"sepeda\", \"pesawat\", \"kapal laut\"]\n",
    "print(list1[0])\n",
    "print(list1[1:2]) #start indek 1, end indek 2\n",
    "print(list1[1:3])\n",
    "print(list1[1:6:2]) #start indek 1, end indek 6 tidak included, stepnya 2\n",
    "print(list1[-1]) #start dari belakang (indek -1)\n",
    "print(list1[-4:-2]) #start indek -4, end -2\n",
    "print(list1[-6:-2:2]) "
   ]
  },
  {
   "cell_type": "code",
   "execution_count": 5,
   "metadata": {},
   "outputs": [
    {
     "name": "stdout",
     "output_type": "stream",
     "text": [
      "yoyoi, 'sepeda' adalah dalam list1\n"
     ]
    }
   ],
   "source": [
    "if \"sepeda\" in list1:\n",
    "    print(\"yoyoi, 'sepeda' adalah dalam list1\")"
   ]
  },
  {
   "cell_type": "markdown",
   "metadata": {},
   "source": [
    "### Change item value"
   ]
  },
  {
   "cell_type": "code",
   "execution_count": 7,
   "metadata": {},
   "outputs": [
    {
     "name": "stdout",
     "output_type": "stream",
     "text": [
      "['mobil', 'bemo', 'becak', 'sepeda', 'pesawat', 'kapal laut']\n"
     ]
    }
   ],
   "source": [
    "list1 = [\"mobil\", \"motor\", \"becak\", \"sepeda\", \"pesawat\", \"kapal laut\"]\n",
    "list1[1] = \"bemo\" #ubah index 1\n",
    "print(list1)"
   ]
  },
  {
   "cell_type": "code",
   "execution_count": 9,
   "metadata": {},
   "outputs": [
    {
     "name": "stdout",
     "output_type": "stream",
     "text": [
      "['mobil', 'gojek', 'grab', 'sepeda', 'pesawat', 'kapal laut']\n"
     ]
    }
   ],
   "source": [
    "list1[1:3] = [\"gojek\", \"grab\"] # 2 index jadi 2 nilai\n",
    "print(list1)"
   ]
  },
  {
   "cell_type": "code",
   "execution_count": 10,
   "metadata": {},
   "outputs": [
    {
     "name": "stdout",
     "output_type": "stream",
     "text": [
      "['mobil', 'grab2', 'sepeda', 'pesawat', 'kapal laut']\n"
     ]
    }
   ],
   "source": [
    "list1[1:3] = [\"grab2\"] # 2 index jadi 1 nilai saja\n",
    "print(list1)"
   ]
  },
  {
   "cell_type": "markdown",
   "metadata": {},
   "source": [
    "### Add List Items"
   ]
  },
  {
   "cell_type": "code",
   "execution_count": 21,
   "metadata": {},
   "outputs": [],
   "source": [
    "list1 = [\"mobil\", \"motor\", \"becak\", \"sepeda\", \"pesawat\", \"kapal laut\"]"
   ]
  },
  {
   "cell_type": "code",
   "execution_count": 22,
   "metadata": {},
   "outputs": [
    {
     "name": "stdout",
     "output_type": "stream",
     "text": [
      "['mobil', 'gojek', 'motor', 'becak', 'sepeda', 'pesawat', 'kapal laut']\n"
     ]
    }
   ],
   "source": [
    "list1.insert(1, \"gojek\") #tambahkan nilai di spesifix index\n",
    "print(list1)"
   ]
  },
  {
   "cell_type": "code",
   "execution_count": 23,
   "metadata": {},
   "outputs": [
    {
     "name": "stdout",
     "output_type": "stream",
     "text": [
      "['mobil', 'gojek', 'motor', 'becak', 'sepeda', 'pesawat', 'kapal laut', 'honda']\n"
     ]
    }
   ],
   "source": [
    "list1.append('honda')\n",
    "print(list1)"
   ]
  },
  {
   "cell_type": "code",
   "execution_count": 25,
   "metadata": {},
   "outputs": [],
   "source": [
    "tropical = [\"mango\", \"pineaple\", \"papaya\"]"
   ]
  },
  {
   "cell_type": "code",
   "execution_count": 27,
   "metadata": {},
   "outputs": [
    {
     "name": "stdout",
     "output_type": "stream",
     "text": [
      "['mobil', 'gojek', 'motor', 'becak', 'sepeda', 'pesawat', 'kapal laut', 'honda', ['mango', 'pineaple', 'papaya']]\n"
     ]
    }
   ],
   "source": [
    "list1.append(tropical) #tambahkan di akhir list\n",
    "print(list1)"
   ]
  },
  {
   "cell_type": "code",
   "execution_count": 28,
   "metadata": {},
   "outputs": [
    {
     "name": "stdout",
     "output_type": "stream",
     "text": [
      "['apple', 'banana', 'cherry', 'mango', 'pineapple', 'papaya']\n"
     ]
    }
   ],
   "source": [
    "#To append elements from another list to the current list, use the extend() method. \n",
    "thislist = [\"apple\", \"banana\", \"cherry\"]\n",
    "tropical = (\"mango\", \"pineapple\", \"papaya\")\n",
    "thislist.extend(tropical)\n",
    "print(thislist)"
   ]
  },
  {
   "cell_type": "markdown",
   "metadata": {},
   "source": [
    "### Remove Specified Item"
   ]
  },
  {
   "cell_type": "code",
   "execution_count": 29,
   "metadata": {},
   "outputs": [
    {
     "name": "stdout",
     "output_type": "stream",
     "text": [
      "['apple', 'cherry', 'mango']\n",
      "['apple', 'mango']\n",
      "['apple']\n"
     ]
    }
   ],
   "source": [
    "thislist = [\"apple\", \"banana\", \"cherry\", \"mango\"]\n",
    "thislist.remove(\"banana\") #hapus spesifik value\n",
    "print(thislist)\n",
    "\n",
    "thislist.pop(1) #hapus spesifik index\n",
    "print(thislist)\n",
    "\n",
    "thislist.pop() #hapus last index (index terakhir)\n",
    "print(thislist)"
   ]
  },
  {
   "cell_type": "code",
   "execution_count": 31,
   "metadata": {},
   "outputs": [
    {
     "name": "stdout",
     "output_type": "stream",
     "text": [
      "['banana', 'cherry', 'mango']\n"
     ]
    }
   ],
   "source": [
    "thislist = [\"apple\", \"banana\", \"cherry\", \"mango\"]\n",
    "del thislist[0] #delete spesifik index\n",
    "#jika thislist (hapus seluruh list)\n",
    "print(thislist)"
   ]
  },
  {
   "cell_type": "code",
   "execution_count": 32,
   "metadata": {},
   "outputs": [
    {
     "name": "stdout",
     "output_type": "stream",
     "text": [
      "[]\n"
     ]
    }
   ],
   "source": [
    "thislist = [\"apple\", \"banana\", \"cherry\", \"mango\"]\n",
    "thislist.clear() #hapus dalam list\n",
    "print(thislist)"
   ]
  },
  {
   "cell_type": "markdown",
   "metadata": {},
   "source": [
    "### Sort, Sorted & Reserve List"
   ]
  },
  {
   "cell_type": "code",
   "execution_count": 34,
   "metadata": {},
   "outputs": [
    {
     "name": "stdout",
     "output_type": "stream",
     "text": [
      "2\n",
      "c\n"
     ]
    }
   ],
   "source": [
    "#angka => huruf besar => kecil\n",
    "a = ['a', 'B', 'c', '2']\n",
    "print(min(a))\n",
    "print(max(a))"
   ]
  },
  {
   "cell_type": "code",
   "execution_count": 37,
   "metadata": {},
   "outputs": [
    {
     "name": "stdout",
     "output_type": "stream",
     "text": [
      "['kiwi', 'mango', 'orange', 'pineapple']\n"
     ]
    }
   ],
   "source": [
    "thislist = [\"orange\", \"mango\", \"kiwi\", \"pineapple\"]\n",
    "thislist.sort()\n",
    "print(thislist)"
   ]
  },
  {
   "cell_type": "code",
   "execution_count": 38,
   "metadata": {},
   "outputs": [
    {
     "name": "stdout",
     "output_type": "stream",
     "text": [
      "['Kiwi', 'Orange', 'banana', 'cherry']\n"
     ]
    }
   ],
   "source": [
    "#urutkan nilai dari angka => huruf besar => huruf kecil\n",
    "thislist = [\"banana\", \"Orange\", \"Kiwi\", \"cherry\"]\n",
    "thislist.sort()\n",
    "print(thislist)"
   ]
  },
  {
   "cell_type": "code",
   "execution_count": 39,
   "metadata": {},
   "outputs": [
    {
     "name": "stdout",
     "output_type": "stream",
     "text": [
      "['banana', 'cherry', 'Kiwi', 'mango', 'Orange']\n"
     ]
    }
   ],
   "source": [
    "thislist = [\"banana\", \"Orange\", \"Kiwi\", \"cherry\", \"mango\"]\n",
    "thislist.sort(key = str.lower) #menggunakan str.lower agar tidak case sensitive\n",
    "print(thislist)"
   ]
  },
  {
   "cell_type": "markdown",
   "metadata": {},
   "source": [
    "### Copy"
   ]
  },
  {
   "cell_type": "code",
   "execution_count": 40,
   "metadata": {},
   "outputs": [
    {
     "name": "stdout",
     "output_type": "stream",
     "text": [
      "['apple', 'mango', 'cherry']\n",
      "['apple', 'banana', 'cherry']\n"
     ]
    }
   ],
   "source": [
    "thislist = [\"apple\", \"banana\", \"cherry\"]\n",
    "mylist = thislist.copy() # copy tidak akan mempengaruhi list aslinya\n",
    "mylist[1] = 'mango'\n",
    "print(mylist)\n",
    "print(thislist)"
   ]
  },
  {
   "cell_type": "code",
   "execution_count": 41,
   "metadata": {},
   "outputs": [
    {
     "name": "stdout",
     "output_type": "stream",
     "text": [
      "['apple', 'mango', 'cherry']\n",
      "['apple', 'mango', 'cherry']\n"
     ]
    }
   ],
   "source": [
    "thislist = [\"apple\", \"banana\", \"cherry\"]\n",
    "mylist = thislist # jika langsung = dan tidak menggunakan copy, akan berpengaruh ke list aslinya\n",
    "mylist[1] = 'mango'\n",
    "\n",
    "print(mylist)\n",
    "print(thislist)"
   ]
  },
  {
   "cell_type": "code",
   "execution_count": 42,
   "metadata": {},
   "outputs": [
    {
     "name": "stdout",
     "output_type": "stream",
     "text": [
      "['apple', 'banana', 'cherry']\n"
     ]
    }
   ],
   "source": [
    "thislist = [\"apple\", \"banana\", \"cherry\"]\n",
    "mylist = list(thislist) #mengcopy list dengan built-in method list ()\n",
    "print(mylist)"
   ]
  },
  {
   "cell_type": "markdown",
   "metadata": {},
   "source": [
    "### Join Lists"
   ]
  },
  {
   "cell_type": "code",
   "execution_count": 1,
   "metadata": {},
   "outputs": [
    {
     "name": "stdout",
     "output_type": "stream",
     "text": [
      "['a', 'b', 'c', 1, 2, 3]\n"
     ]
    }
   ],
   "source": [
    "list1 = [\"a\", \"b\", \"c\"]\n",
    "list2 = [1, 2, 3]\n",
    "\n",
    "list3 = list1 + list2\n",
    "print(list3)"
   ]
  },
  {
   "cell_type": "code",
   "execution_count": 2,
   "metadata": {},
   "outputs": [
    {
     "name": "stdout",
     "output_type": "stream",
     "text": [
      "['a', 'b', 'c', 1, 2, 3]\n"
     ]
    }
   ],
   "source": [
    "list1 = [\"a\", \"b\", \"c\"]\n",
    "list2 = [1, 2, 3] \n",
    "\n",
    "for x in list2:\n",
    "    list1.append(x)\n",
    "    # print (list1)\n",
    "\n",
    "print(list1)"
   ]
  },
  {
   "cell_type": "code",
   "execution_count": 3,
   "metadata": {},
   "outputs": [
    {
     "name": "stdout",
     "output_type": "stream",
     "text": [
      "['a', 'b', 'c', 1, 2, 3]\n"
     ]
    }
   ],
   "source": [
    "list1 = [\"a\", \"b\", \"c\"]\n",
    "list2 = [1, 2, 3] \n",
    "\n",
    "list1.extend(list2)\n",
    "print(list1)"
   ]
  },
  {
   "cell_type": "markdown",
   "metadata": {},
   "source": [
    "### Tuple\n",
    "#### is unchangeable"
   ]
  },
  {
   "cell_type": "code",
   "execution_count": 4,
   "metadata": {},
   "outputs": [
    {
     "name": "stdout",
     "output_type": "stream",
     "text": [
      "('apple', 'banana', 'cherry', 'mango')\n"
     ]
    }
   ],
   "source": [
    "thistuple = (\"apple\", \"banana\", \"cherry\", \"mango\")\n",
    "print(thistuple)"
   ]
  },
  {
   "cell_type": "markdown",
   "metadata": {},
   "source": [
    "#### Access Tuple Items"
   ]
  },
  {
   "cell_type": "code",
   "execution_count": 5,
   "metadata": {},
   "outputs": [
    {
     "name": "stdout",
     "output_type": "stream",
     "text": [
      "banana\n",
      "mango\n",
      "('cherry', 'mango')\n",
      "('apple', 'banana', 'cherry', 'mango')\n",
      "('banana', 'cherry')\n"
     ]
    }
   ],
   "source": [
    "thistuple = (\"apple\", \"banana\", \"cherry\", \"mango\")\n",
    "print(thistuple[1])\n",
    "print(thistuple[-1])\n",
    "print(thistuple[2:5])\n",
    "print(thistuple[:4])\n",
    "print(thistuple[1:3:1])"
   ]
  },
  {
   "cell_type": "markdown",
   "metadata": {},
   "source": [
    "#### Update Tuples"
   ]
  },
  {
   "cell_type": "code",
   "execution_count": 6,
   "metadata": {},
   "outputs": [
    {
     "name": "stdout",
     "output_type": "stream",
     "text": [
      "type['apple', 'banana', 'cherry']\n",
      "('apple', 'kiwi', 'cherry')\n"
     ]
    }
   ],
   "source": [
    "x = (\"apple\", \"banana\", \"cherry\")\n",
    "print(type[x])\n",
    "\n",
    "y = list(x) #cara jika ingin mengubah isi tuple adalah mengubah list\n",
    "\n",
    "y[1] = \"kiwi\" #ubah index 1 dengan kiwi\n",
    "x = tuple(y)\n",
    "\n",
    "print(x)"
   ]
  },
  {
   "cell_type": "code",
   "execution_count": 7,
   "metadata": {},
   "outputs": [
    {
     "name": "stdout",
     "output_type": "stream",
     "text": [
      "('apple', 'banana', 'cherry', 'durian')\n"
     ]
    }
   ],
   "source": [
    "thistuple = (\"apple\", \"banana\", \"cherry\")\n",
    "y = list(thistuple)\n",
    "y.append(\"durian\")\n",
    "thistuple = tuple(y) \n",
    "\n",
    "print(thistuple)"
   ]
  },
  {
   "cell_type": "code",
   "execution_count": 10,
   "metadata": {},
   "outputs": [
    {
     "name": "stdout",
     "output_type": "stream",
     "text": [
      "('apple', 'banana', 'cherry', 'durian')\n"
     ]
    }
   ],
   "source": [
    "thistuple = (\"apple\", \"banana\", \"cherry\")\n",
    "y = (\"durian\",)\n",
    "thistuple += y\n",
    "\n",
    "print(thistuple)"
   ]
  },
  {
   "cell_type": "markdown",
   "metadata": {},
   "source": [
    "#### Remove Items"
   ]
  },
  {
   "cell_type": "code",
   "execution_count": 11,
   "metadata": {},
   "outputs": [
    {
     "name": "stdout",
     "output_type": "stream",
     "text": [
      "('apple', 'cherry')\n"
     ]
    }
   ],
   "source": [
    "thistuple = (\"apple\", \"banana\", \"cherry\")\n",
    "y = list(thistuple)\n",
    "y.remove(\"banana\")\n",
    "thistuple = tuple(y)\n",
    "print(thistuple)"
   ]
  },
  {
   "cell_type": "markdown",
   "metadata": {},
   "source": [
    "### Set"
   ]
  },
  {
   "cell_type": "code",
   "execution_count": 21,
   "metadata": {},
   "outputs": [
    {
     "name": "stdout",
     "output_type": "stream",
     "text": [
      "<class 'tuple'>\n",
      "4\n",
      "('apple', 'durian', 'cherry', 'orange')\n"
     ]
    }
   ],
   "source": [
    "myset = (\"apple\", \"durian\", \"cherry\", \"orange\")\n",
    "\n",
    "print(type(myset))\n",
    "print(len(myset))\n",
    "print(myset)"
   ]
  },
  {
   "cell_type": "markdown",
   "metadata": {},
   "source": [
    "### Access Items"
   ]
  },
  {
   "cell_type": "code",
   "execution_count": 19,
   "metadata": {},
   "outputs": [
    {
     "name": "stdout",
     "output_type": "stream",
     "text": [
      "durian\n",
      "apple\n",
      "banana\n"
     ]
    }
   ],
   "source": [
    "thisset = {\"apple\", \"banana\", \"durian\"}\n",
    "\n",
    "for x in thisset:\n",
    "    print(x) #hasil output bisa berubah-ubah karena unordered"
   ]
  },
  {
   "cell_type": "markdown",
   "metadata": {},
   "source": [
    "### Add Items"
   ]
  },
  {
   "cell_type": "code",
   "execution_count": 18,
   "metadata": {},
   "outputs": [
    {
     "name": "stdout",
     "output_type": "stream",
     "text": [
      "{'durian', 'apple', 'banana', 'orange'}\n"
     ]
    }
   ],
   "source": [
    "thisset = {\"apple\", \"banana\", \"durian\"}\n",
    "\n",
    "thisset.add(\"orange\")\n",
    "\n",
    "print(thisset)"
   ]
  },
  {
   "cell_type": "code",
   "execution_count": 22,
   "metadata": {},
   "outputs": [
    {
     "name": "stdout",
     "output_type": "stream",
     "text": [
      "{'apple', 'papaya', 'banana', 'durian', 'watermelon', 'orange'}\n"
     ]
    }
   ],
   "source": [
    "thisset = {\"watermelon\", \"apple\", \"durian\"}\n",
    "tropical = {\"papaya\", \"banana\", \"orange\"}\n",
    "\n",
    "thisset.update(tropical)\n",
    "\n",
    "print(thisset)"
   ]
  },
  {
   "cell_type": "markdown",
   "metadata": {},
   "source": [
    "### Remove Item"
   ]
  },
  {
   "cell_type": "code",
   "execution_count": 24,
   "metadata": {},
   "outputs": [
    {
     "name": "stdout",
     "output_type": "stream",
     "text": [
      "{'durian', 'apple', 'mango', 'watermelon'}\n"
     ]
    }
   ],
   "source": [
    "thisset = {\"apple\", \"banana\", \"watermelon\", \"durian\", \"mango\"}\n",
    "thisset.remove(\"banana\")\n",
    "\n",
    "print(thisset)"
   ]
  },
  {
   "cell_type": "code",
   "execution_count": 25,
   "metadata": {},
   "outputs": [
    {
     "name": "stdout",
     "output_type": "stream",
     "text": [
      "{'durian', 'apple', 'banana', 'mango'}\n"
     ]
    }
   ],
   "source": [
    "thisset = {\"apple\", \"banana\", \"watermelon\", \"durian\", \"mango\"}\n",
    "thisset.discard(\"watermelon\")\n",
    "\n",
    "print(thisset)"
   ]
  },
  {
   "cell_type": "code",
   "execution_count": 27,
   "metadata": {},
   "outputs": [
    {
     "name": "stdout",
     "output_type": "stream",
     "text": [
      "durian\n",
      "{'apple', 'banana', 'mango', 'watermelon'}\n"
     ]
    }
   ],
   "source": [
    "thisset = {\"apple\", \"banana\", \"watermelon\", \"durian\", \"mango\"}\n",
    "\n",
    "x = thisset.pop()\n",
    "\n",
    "print(x)\n",
    "\n",
    "print(thisset)"
   ]
  },
  {
   "cell_type": "code",
   "execution_count": 28,
   "metadata": {},
   "outputs": [
    {
     "name": "stdout",
     "output_type": "stream",
     "text": [
      "set()\n"
     ]
    }
   ],
   "source": [
    "thisset = {\"apple\", \"banana\", \"watermelon\", \"durian\", \"mango\"}\n",
    "\n",
    "thisset.clear()\n",
    "\n",
    "print(thisset)"
   ]
  },
  {
   "cell_type": "markdown",
   "metadata": {},
   "source": [
    "### Dictionaries"
   ]
  },
  {
   "cell_type": "code",
   "execution_count": 30,
   "metadata": {},
   "outputs": [
    {
     "name": "stdout",
     "output_type": "stream",
     "text": [
      "{'brand': 'Mercedes', 'model': 'Mclaren', 'year': '2012'}\n",
      "3\n"
     ]
    }
   ],
   "source": [
    "thisdict ={\n",
    "    \"brand\" : \"Mercedes\",\n",
    "    \"model\" : \"Mclaren\",\n",
    "    \"year\" : \"2012\"\n",
    "}\n",
    "print(thisdict)\n",
    "print(len(thisdict))"
   ]
  },
  {
   "cell_type": "code",
   "execution_count": 32,
   "metadata": {},
   "outputs": [
    {
     "name": "stdout",
     "output_type": "stream",
     "text": [
      "{'italia': 'roma', 'england': 'london', 'spain': 'madrid', 'germany': 'berlin'}\n"
     ]
    }
   ],
   "source": [
    "#crate dictionary\n",
    "# Definition of countries and capitalizations\n",
    "countries = ['italia', 'england', 'spain', 'germany']\n",
    "capitals = ['roma', 'london', 'madrid', 'berlin']\n",
    "\n",
    "#from string in countries and capitals, crate dictionary europe and\n",
    "europe = {'italia':'roma', 'england':'london', 'spain':'madrid', 'germany':'berlin'}\n",
    "#print europe\n",
    "print(europe)"
   ]
  },
  {
   "cell_type": "code",
   "execution_count": 35,
   "metadata": {},
   "outputs": [
    {
     "name": "stdout",
     "output_type": "stream",
     "text": [
      "berlin\n"
     ]
    }
   ],
   "source": [
    "#get index of 'germany' : ind_ger\n",
    "ind_ger = countries.index('germany')\n",
    "\n",
    "#use ind_ger to print out capital of germany\n",
    "print(capitals[ind_ger])"
   ]
  },
  {
   "cell_type": "markdown",
   "metadata": {},
   "source": [
    "#### Access Items"
   ]
  },
  {
   "cell_type": "code",
   "execution_count": 36,
   "metadata": {},
   "outputs": [
    {
     "name": "stdout",
     "output_type": "stream",
     "text": [
      "Mclaren\n",
      "Mclaren\n"
     ]
    }
   ],
   "source": [
    "thisdict ={\n",
    "    \"brand\" : \"Mercedes\",\n",
    "    \"model\" : \"Mclaren\",\n",
    "    \"year\" : \"2012\"\n",
    "}\n",
    "x = thisdict[\"model\"]\n",
    "y = thisdict.get(\"model\")\n",
    "\n",
    "print(x)\n",
    "print(y)"
   ]
  },
  {
   "cell_type": "code",
   "execution_count": 37,
   "metadata": {},
   "outputs": [
    {
     "name": "stdout",
     "output_type": "stream",
     "text": [
      "dict_keys(['brand', 'model', 'year'])\n"
     ]
    }
   ],
   "source": [
    "thisdict ={\n",
    "    \"brand\" : \"Mercedes\",\n",
    "    \"model\" : \"Mclaren\",\n",
    "    \"year\" : \"2012\"\n",
    "} \n",
    "\n",
    "x = thisdict.keys() #untuk mendapatkan keys\n",
    "\n",
    "print(x)"
   ]
  },
  {
   "cell_type": "code",
   "execution_count": 38,
   "metadata": {},
   "outputs": [
    {
     "name": "stdout",
     "output_type": "stream",
     "text": [
      "dict_values(['Mercedes', 'Mclaren', '2012'])\n"
     ]
    }
   ],
   "source": [
    "thisdict ={\n",
    "    \"brand\" : \"Mercedes\",\n",
    "    \"model\" : \"Mclaren\",\n",
    "    \"year\" : \"2012\"\n",
    "}\n",
    "\n",
    "x = thisdict.values() #untuk mendapatkan values\n",
    "\n",
    "print(x)"
   ]
  },
  {
   "cell_type": "code",
   "execution_count": 39,
   "metadata": {},
   "outputs": [
    {
     "name": "stdout",
     "output_type": "stream",
     "text": [
      "dict_items([('brand', 'Mercedes'), ('model', 'Mclaren'), ('year', '2012')])\n"
     ]
    }
   ],
   "source": [
    "thisdict ={\n",
    "    \"brand\" : \"Mercedes\",\n",
    "    \"model\" : \"Mclaren\",\n",
    "    \"year\" : \"2012\"\n",
    "}\n",
    "\n",
    "x = thisdict.items() #untuk mendapatkan items\n",
    "\n",
    "print(x)"
   ]
  },
  {
   "cell_type": "code",
   "execution_count": 40,
   "metadata": {},
   "outputs": [
    {
     "name": "stdout",
     "output_type": "stream",
     "text": [
      "Yoyoi, 'model' is one of the keys in the thisdict dictionary\n"
     ]
    }
   ],
   "source": [
    "thisdict ={\n",
    "    \"brand\" : \"Mercedes\",\n",
    "    \"model\" : \"Mclaren\",\n",
    "    \"year\" : \"2012\"\n",
    "}\n",
    "if \"model\" in thisdict:\n",
    "    print(\"Yoyoi, 'model' is one of the keys in the thisdict dictionary\")"
   ]
  },
  {
   "cell_type": "markdown",
   "metadata": {},
   "source": [
    "#### Change Values"
   ]
  },
  {
   "cell_type": "code",
   "execution_count": 41,
   "metadata": {},
   "outputs": [
    {
     "name": "stdout",
     "output_type": "stream",
     "text": [
      "{'brand': 'Mercedes', 'model': 'Mclaren', 'year': 2017}\n"
     ]
    }
   ],
   "source": [
    "thisdict ={\n",
    "    \"brand\" : \"Mercedes\",\n",
    "    \"model\" : \"Mclaren\",\n",
    "    \"year\" : \"2012\"\n",
    "}\n",
    "\n",
    "thisdict[\"year\"] = 2017\n",
    "\n",
    "print(thisdict)"
   ]
  },
  {
   "cell_type": "code",
   "execution_count": 42,
   "metadata": {},
   "outputs": [
    {
     "name": "stdout",
     "output_type": "stream",
     "text": [
      "{'brand': 'Mercedes', 'model': 'Mclaren', 'year': 2021}\n"
     ]
    }
   ],
   "source": [
    "thisdict.update({\"year\":2021})\n",
    "\n",
    "print(thisdict)"
   ]
  },
  {
   "cell_type": "markdown",
   "metadata": {},
   "source": [
    "#### Adding Items"
   ]
  },
  {
   "cell_type": "code",
   "execution_count": 43,
   "metadata": {},
   "outputs": [
    {
     "name": "stdout",
     "output_type": "stream",
     "text": [
      "{'brand': 'Mercedes', 'model': 'Mclaren', 'year': '2012', 'color': 'red'}\n"
     ]
    }
   ],
   "source": [
    "thisdict ={\n",
    "    \"brand\" : \"Mercedes\",\n",
    "    \"model\" : \"Mclaren\",\n",
    "    \"year\" : \"2012\"\n",
    "}\n",
    "thisdict[\"color\"] = \"red\" #tambahkan key dan value\n",
    "print(thisdict)"
   ]
  },
  {
   "cell_type": "markdown",
   "metadata": {},
   "source": [
    "#### Removing Items"
   ]
  },
  {
   "cell_type": "code",
   "execution_count": 44,
   "metadata": {},
   "outputs": [
    {
     "name": "stdout",
     "output_type": "stream",
     "text": [
      "{'brand': 'Mercedes', 'year': '2012'}\n"
     ]
    }
   ],
   "source": [
    "thisdict ={\n",
    "    \"brand\" : \"Mercedes\",\n",
    "    \"model\" : \"Mclaren\",\n",
    "    \"year\" : \"2012\"\n",
    "}\n",
    "thisdict.pop(\"model\") #hapus item tertentu\n",
    "print(thisdict)"
   ]
  },
  {
   "cell_type": "code",
   "execution_count": 45,
   "metadata": {},
   "outputs": [
    {
     "name": "stdout",
     "output_type": "stream",
     "text": [
      "{'brand': 'Mercedes', 'model': 'Mclaren'}\n"
     ]
    }
   ],
   "source": [
    "thisdict ={\n",
    "    \"brand\" : \"Mercedes\",\n",
    "    \"model\" : \"Mclaren\",\n",
    "    \"year\" : \"2012\"\n",
    "}\n",
    "thisdict.popitem() #hapus item terakhir\n",
    "print(thisdict)"
   ]
  },
  {
   "cell_type": "code",
   "execution_count": 46,
   "metadata": {},
   "outputs": [
    {
     "name": "stdout",
     "output_type": "stream",
     "text": [
      "{}\n"
     ]
    }
   ],
   "source": [
    "thisdict ={\n",
    "    \"brand\" : \"Mercedes\",\n",
    "    \"model\" : \"Mclaren\",\n",
    "    \"year\" : \"2012\"\n",
    "}\n",
    "thisdict.clear()\n",
    "print(thisdict)"
   ]
  },
  {
   "cell_type": "code",
   "execution_count": 47,
   "metadata": {},
   "outputs": [
    {
     "name": "stdout",
     "output_type": "stream",
     "text": [
      "{'brand': 'Mercedes', 'year': '2012'}\n"
     ]
    }
   ],
   "source": [
    "thisdict ={\n",
    "    \"brand\" : \"Mercedes\",\n",
    "    \"model\" : \"Mclaren\",\n",
    "    \"year\" : \"2012\"\n",
    "}\n",
    "del thisdict[\"model\"]\n",
    "print(thisdict)"
   ]
  },
  {
   "cell_type": "code",
   "execution_count": null,
   "metadata": {},
   "outputs": [],
   "source": [
    "thisdict ={\n",
    "    \"brand\" : \"Mercedes\",\n",
    "    \"model\" : \"Mclaren\",\n",
    "    \"year\" : \"2012\"\n",
    "}\n",
    "del thisdict\n",
    "print(thisdict) # tidak bisa karena akan eror"
   ]
  },
  {
   "cell_type": "markdown",
   "metadata": {},
   "source": [
    "#### Copy a Dictionary"
   ]
  },
  {
   "cell_type": "code",
   "execution_count": 48,
   "metadata": {},
   "outputs": [
    {
     "name": "stdout",
     "output_type": "stream",
     "text": [
      "{'brand': 'Mercedes', 'model': 'Mclaren', 'year': '2012'}\n"
     ]
    }
   ],
   "source": [
    "thisdict ={\n",
    "    \"brand\" : \"Mercedes\",\n",
    "    \"model\" : \"Mclaren\",\n",
    "    \"year\" : \"2012\"\n",
    "}\n",
    "mydict = thisdict.copy()\n",
    "print(mydict)"
   ]
  },
  {
   "cell_type": "code",
   "execution_count": 49,
   "metadata": {},
   "outputs": [
    {
     "name": "stdout",
     "output_type": "stream",
     "text": [
      "{'thisdict': {'brand': 'Mercedes', 'model': 'Mclaren', 'year': '2012'}}\n"
     ]
    }
   ],
   "source": [
    "thisdict ={\n",
    "    \"brand\" : \"Mercedes\",\n",
    "    \"model\" : \"Mclaren\",\n",
    "    \"year\" : \"2012\"\n",
    "}\n",
    "mydict = dict(thisdict = mydict)\n",
    "print(mydict)"
   ]
  },
  {
   "cell_type": "markdown",
   "metadata": {},
   "source": [
    "#### Nested Dictionaries"
   ]
  },
  {
   "cell_type": "code",
   "execution_count": 50,
   "metadata": {},
   "outputs": [
    {
     "name": "stdout",
     "output_type": "stream",
     "text": [
      "Bokir\n",
      "27\n",
      "male\n",
      "zaenab\n",
      "21\n",
      "female\n"
     ]
    }
   ],
   "source": [
    "people = {1: {'name': 'Bokir', 'age':'27', 'gender': 'male'}, \n",
    "        2: {'name': 'zaenab', 'age':'21', 'gender': 'female'}}\n",
    "\n",
    "print(people[1]['name'])\n",
    "print(people[1]['age'])\n",
    "print(people[1]['gender'])\n",
    "\n",
    "print(people[2]['name'])\n",
    "print(people[2]['age'])\n",
    "print(people[2]['gender'])"
   ]
  },
  {
   "cell_type": "code",
   "execution_count": 54,
   "metadata": {},
   "outputs": [
    {
     "name": "stdout",
     "output_type": "stream",
     "text": [
      "{1: {'name': 'Bokir', 'age': '27', 'gender': 'male'}, 2: {'name': 'zaenab', 'age': '21', 'gender': 'female'}, 3: {'name': 'luna', 'age': '23', 'gender': 'female', 'maried': 'no'}}\n",
      "{'name': 'luna', 'age': '23', 'gender': 'female', 'maried': 'no'}\n"
     ]
    }
   ],
   "source": [
    "people = {1: {'name': 'Bokir', 'age':'27', 'gender': 'male'}, \n",
    "        2: {'name': 'zaenab', 'age':'21', 'gender': 'female'}}\n",
    "\n",
    "people[3] = {}\n",
    "\n",
    "people[3]['name'] = 'luna'\n",
    "people[3]['age'] = '23'\n",
    "people[3]['gender'] = 'female'\n",
    "people[3]['maried'] = 'no'\n",
    "\n",
    "print(people)\n",
    "\n",
    "print(people[3])"
   ]
  },
  {
   "cell_type": "code",
   "execution_count": 57,
   "metadata": {},
   "outputs": [
    {
     "name": "stdout",
     "output_type": "stream",
     "text": [
      "rome\n",
      "{'spain': {'capital': 'madrid', 'population': 46.77}, 'italy': {'capital': 'rome', 'population': 66.03}, 'france': {'capital': 'paris', 'population': 59.83}, 'germany': {'capital': 'berlin', 'population': 80.62}, 'norway': {'capital': 'oslo', 'population': 5.084}}\n"
     ]
    }
   ],
   "source": [
    "# Dictionary of dictionaries\n",
    "europe = { 'spain': { 'capital':'madrid', 'population':46.77},\n",
    "        'italy': {'capital':'rome', 'population':66.03},\n",
    "        'france': {'capital':'paris', 'population':59.83},\n",
    "        'germany': {'capital':'berlin', 'population':80.62}}\n",
    "\n",
    "# Print out the capital of Italy\n",
    "print(europe['italy']['capital'])\n",
    "\n",
    "#crate sub-dictionary data \n",
    "data = { 'capital':'oslo', 'population':5.084 }\n",
    "\n",
    "#add data to europe under key 'norway'\n",
    "europe['norway'] = data\n",
    "\n",
    "#print europe\n",
    "print(europe)\n"
   ]
  },
  {
   "cell_type": "markdown",
   "metadata": {},
   "source": [
    "## Line Continuation"
   ]
  },
  {
   "cell_type": "code",
   "execution_count": 58,
   "metadata": {},
   "outputs": [
    {
     "data": {
      "text/plain": [
       "True"
      ]
     },
     "execution_count": 58,
     "metadata": {},
     "output_type": "execute_result"
    }
   ],
   "source": [
    "person1_age = 42\n",
    "person2_age = 16\n",
    "person3_age = 71\n",
    "\n",
    "someone_is_of_working_age = (person1_age >= 18 and person1_age <= 65) or (person2_age >= 18 and person2_age <= 65) or (person3_age >= 18 and person3_age <= 65)\n",
    "someone_is_of_working_age"
   ]
  },
  {
   "cell_type": "code",
   "execution_count": 59,
   "metadata": {},
   "outputs": [
    {
     "data": {
      "text/plain": [
       "True"
      ]
     },
     "execution_count": 59,
     "metadata": {},
     "output_type": "execute_result"
    }
   ],
   "source": [
    "someone_is_of_working_age = (\n",
    "    (person1_age >= 18 and person1_age <= 65)\n",
    "    or (person2_age >= 18 and person2_age <= 65)\n",
    "    or (person3_age >= 18 and person3_age <= 65)\n",
    ")\n",
    "\n",
    "someone_is_of_working_age"
   ]
  }
 ],
 "metadata": {
  "interpreter": {
   "hash": "5fd4b1843755b967f2227c107b469e488ac16220529f70aa326a21c9d0b83acb"
  },
  "kernelspec": {
   "display_name": "Python 3.10.1 64-bit",
   "language": "python",
   "name": "python3"
  },
  "language_info": {
   "codemirror_mode": {
    "name": "ipython",
    "version": 3
   },
   "file_extension": ".py",
   "mimetype": "text/x-python",
   "name": "python",
   "nbconvert_exporter": "python",
   "pygments_lexer": "ipython3",
   "version": "3.10.1"
  },
  "orig_nbformat": 4
 },
 "nbformat": 4,
 "nbformat_minor": 2
}
