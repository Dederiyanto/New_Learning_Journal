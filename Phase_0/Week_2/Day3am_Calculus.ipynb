{
  "nbformat": 4,
  "nbformat_minor": 0,
  "metadata": {
    "colab": {
      "name": "Day3am_Calculus.ipynb",
      "provenance": [],
      "collapsed_sections": [
        "_32JhCeyjF5h",
        "-GW8Ux91jgAx"
      ]
    },
    "kernelspec": {
      "name": "python3",
      "display_name": "Python 3"
    },
    "language_info": {
      "name": "python"
    }
  },
  "cells": [
    {
      "cell_type": "markdown",
      "source": [
        "# Calculus"
      ],
      "metadata": {
        "id": "jOh4f4WItshv"
      }
    },
    {
      "cell_type": "markdown",
      "source": [
        "## Turunan Symbolic"
      ],
      "metadata": {
        "id": "xotWkGOLrLfq"
      }
    },
    {
      "cell_type": "code",
      "execution_count": 132,
      "metadata": {
        "id": "in9Q7q2-rF_n"
      },
      "outputs": [],
      "source": [
        "import sympy as sy"
      ]
    },
    {
      "cell_type": "code",
      "source": [
        "x = sy.Symbol('x')\n",
        "\n",
        "f = 2*x**2+4*x-1"
      ],
      "metadata": {
        "id": "dMcK12dRrWN9"
      },
      "execution_count": 133,
      "outputs": []
    },
    {
      "cell_type": "code",
      "source": [
        "f"
      ],
      "metadata": {
        "colab": {
          "base_uri": "https://localhost:8080/",
          "height": 39
        },
        "id": "WteiHDBvrZrW",
        "outputId": "b79d21ac-74cf-4f9f-e850-8196efc9bc1f"
      },
      "execution_count": 134,
      "outputs": [
        {
          "output_type": "execute_result",
          "data": {
            "text/latex": "$\\displaystyle 2 x^{2} + 4 x - 1$",
            "text/plain": [
              "2*x**2 + 4*x - 1"
            ]
          },
          "metadata": {},
          "execution_count": 134
        }
      ]
    },
    {
      "cell_type": "code",
      "source": [
        "#First order | Turunan pertama\n",
        "df = f.diff()\n",
        "df"
      ],
      "metadata": {
        "colab": {
          "base_uri": "https://localhost:8080/",
          "height": 39
        },
        "id": "peDBULTFtaTm",
        "outputId": "1e1d5aef-8fbe-4be7-8baa-989d639bc8d2"
      },
      "execution_count": 135,
      "outputs": [
        {
          "output_type": "execute_result",
          "data": {
            "text/latex": "$\\displaystyle 4 x + 4$",
            "text/plain": [
              "4*x + 4"
            ]
          },
          "metadata": {},
          "execution_count": 135
        }
      ]
    },
    {
      "cell_type": "code",
      "source": [
        "sy.diff(f)"
      ],
      "metadata": {
        "colab": {
          "base_uri": "https://localhost:8080/",
          "height": 39
        },
        "id": "A_RmOc8-tiis",
        "outputId": "5b310f90-eb8f-446f-c1eb-77ebdf486485"
      },
      "execution_count": 136,
      "outputs": [
        {
          "output_type": "execute_result",
          "data": {
            "text/latex": "$\\displaystyle 4 x + 4$",
            "text/plain": [
              "4*x + 4"
            ]
          },
          "metadata": {},
          "execution_count": 136
        }
      ]
    },
    {
      "cell_type": "code",
      "source": [
        "#Second order | Turunan kedua\n",
        "df.diff()"
      ],
      "metadata": {
        "colab": {
          "base_uri": "https://localhost:8080/",
          "height": 38
        },
        "id": "pB38PN4ktbZ-",
        "outputId": "a5c24fe0-a7b4-4d49-86c0-25aa26519574"
      },
      "execution_count": 137,
      "outputs": [
        {
          "output_type": "execute_result",
          "data": {
            "text/latex": "$\\displaystyle 4$",
            "text/plain": [
              "4"
            ]
          },
          "metadata": {},
          "execution_count": 137
        }
      ]
    },
    {
      "cell_type": "code",
      "source": [
        "#Third order | Turunan ketiga\n",
        "df.diff().diff()"
      ],
      "metadata": {
        "colab": {
          "base_uri": "https://localhost:8080/",
          "height": 38
        },
        "id": "r4KOIg3xtgG-",
        "outputId": "b90d7a9c-9cdb-470a-c7f3-8f5cdb495f93"
      },
      "execution_count": 138,
      "outputs": [
        {
          "output_type": "execute_result",
          "data": {
            "text/latex": "$\\displaystyle 0$",
            "text/plain": [
              "0"
            ]
          },
          "metadata": {},
          "execution_count": 138
        }
      ]
    },
    {
      "cell_type": "markdown",
      "source": [
        "## Numeric"
      ],
      "metadata": {
        "id": "O-aQbkrItllk"
      }
    },
    {
      "cell_type": "code",
      "source": [
        "import numpy as np"
      ],
      "metadata": {
        "id": "NCY6Dwqutn_s"
      },
      "execution_count": 139,
      "outputs": []
    },
    {
      "cell_type": "code",
      "source": [
        "X = np.linspace(-20,20) #menghitung turunan menggunakan data \n",
        "Y = 2*X**2+4*X-1"
      ],
      "metadata": {
        "id": "JrLJYiSst16r"
      },
      "execution_count": 140,
      "outputs": []
    },
    {
      "cell_type": "code",
      "source": [
        "X"
      ],
      "metadata": {
        "colab": {
          "base_uri": "https://localhost:8080/"
        },
        "id": "J0NuKbw3t4Hc",
        "outputId": "7b38d726-fd48-470f-c920-f4bde00dd1db"
      },
      "execution_count": 141,
      "outputs": [
        {
          "output_type": "execute_result",
          "data": {
            "text/plain": [
              "array([-20.        , -19.18367347, -18.36734694, -17.55102041,\n",
              "       -16.73469388, -15.91836735, -15.10204082, -14.28571429,\n",
              "       -13.46938776, -12.65306122, -11.83673469, -11.02040816,\n",
              "       -10.20408163,  -9.3877551 ,  -8.57142857,  -7.75510204,\n",
              "        -6.93877551,  -6.12244898,  -5.30612245,  -4.48979592,\n",
              "        -3.67346939,  -2.85714286,  -2.04081633,  -1.2244898 ,\n",
              "        -0.40816327,   0.40816327,   1.2244898 ,   2.04081633,\n",
              "         2.85714286,   3.67346939,   4.48979592,   5.30612245,\n",
              "         6.12244898,   6.93877551,   7.75510204,   8.57142857,\n",
              "         9.3877551 ,  10.20408163,  11.02040816,  11.83673469,\n",
              "        12.65306122,  13.46938776,  14.28571429,  15.10204082,\n",
              "        15.91836735,  16.73469388,  17.55102041,  18.36734694,\n",
              "        19.18367347,  20.        ])"
            ]
          },
          "metadata": {},
          "execution_count": 141
        }
      ]
    },
    {
      "cell_type": "code",
      "source": [
        "X.shape"
      ],
      "metadata": {
        "colab": {
          "base_uri": "https://localhost:8080/"
        },
        "id": "vXTlyuNUuX0q",
        "outputId": "c5ac5de7-3cad-4912-b6de-77e9db4bc4b7"
      },
      "execution_count": 142,
      "outputs": [
        {
          "output_type": "execute_result",
          "data": {
            "text/plain": [
              "(50,)"
            ]
          },
          "metadata": {},
          "execution_count": 142
        }
      ]
    },
    {
      "cell_type": "code",
      "source": [
        "Y"
      ],
      "metadata": {
        "colab": {
          "base_uri": "https://localhost:8080/"
        },
        "id": "RtgYJTDnt5a7",
        "outputId": "94cfcf7b-bb01-440a-e02d-b23415f7a40d"
      },
      "execution_count": 143,
      "outputs": [
        {
          "output_type": "execute_result",
          "data": {
            "text/plain": [
              "array([ 7.19000000e+02,  6.58291962e+02,  6.00249479e+02,  5.44872553e+02,\n",
              "        4.92161183e+02,  4.42115369e+02,  3.94735110e+02,  3.50020408e+02,\n",
              "        3.07971262e+02,  2.68587672e+02,  2.31869638e+02,  1.97817160e+02,\n",
              "        1.66430237e+02,  1.37708871e+02,  1.11653061e+02,  8.82628072e+01,\n",
              "        6.75381091e+01,  4.94789671e+01,  3.40853811e+01,  2.13573511e+01,\n",
              "        1.12948771e+01,  3.89795918e+00, -8.33402749e-01, -2.89920866e+00,\n",
              "       -2.29945856e+00,  9.65847564e-01,  6.89670970e+00,  1.54931279e+01,\n",
              "        2.67551020e+01,  4.06826322e+01,  5.72757185e+01,  7.65343607e+01,\n",
              "        9.84585589e+01,  1.23048313e+02,  1.50303623e+02,  1.80224490e+02,\n",
              "        2.12810912e+02,  2.48062890e+02,  2.85980425e+02,  3.26563515e+02,\n",
              "        3.69812162e+02,  4.15726364e+02,  4.64306122e+02,  5.15551437e+02,\n",
              "        5.69462307e+02,  6.26038734e+02,  6.85280716e+02,  7.47188255e+02,\n",
              "        8.11761349e+02,  8.79000000e+02])"
            ]
          },
          "metadata": {},
          "execution_count": 143
        }
      ]
    },
    {
      "cell_type": "code",
      "source": [
        "Y.shape"
      ],
      "metadata": {
        "colab": {
          "base_uri": "https://localhost:8080/"
        },
        "id": "C_Li24jYvH0g",
        "outputId": "22bba76a-a1fe-4968-ed71-2037dfa06986"
      },
      "execution_count": 144,
      "outputs": [
        {
          "output_type": "execute_result",
          "data": {
            "text/plain": [
              "(50,)"
            ]
          },
          "metadata": {},
          "execution_count": 144
        }
      ]
    },
    {
      "cell_type": "code",
      "source": [
        "import matplotlib.pyplot as plt\n",
        "\n",
        "plt.plot(X,Y)"
      ],
      "metadata": {
        "colab": {
          "base_uri": "https://localhost:8080/",
          "height": 282
        },
        "id": "fKq7fu-at9pY",
        "outputId": "c02cae7f-34a5-4952-9563-4edc6847887e"
      },
      "execution_count": 145,
      "outputs": [
        {
          "output_type": "execute_result",
          "data": {
            "text/plain": [
              "[<matplotlib.lines.Line2D at 0x7fcaa5ce1dd0>]"
            ]
          },
          "metadata": {},
          "execution_count": 145
        },
        {
          "output_type": "display_data",
          "data": {
            "image/png": "[encoded data removed]",
            "text/plain": [
              "<Figure size 432x288 with 1 Axes>"
            ]
          },
          "metadata": {
            "needs_background": "light"
          }
        }
      ]
    },
    {
      "cell_type": "code",
      "source": [
        "df1 = np.diff(Y)/np.diff(X)\n",
        "df2 = np.gradient(Y,X)"
      ],
      "metadata": {
        "id": "G9RiyBeMt-0D"
      },
      "execution_count": 146,
      "outputs": []
    },
    {
      "cell_type": "code",
      "source": [
        "df1"
      ],
      "metadata": {
        "colab": {
          "base_uri": "https://localhost:8080/"
        },
        "id": "QbkqPaxAuRKr",
        "outputId": "87481e0a-074e-4805-c012-9b77a7d76f0d"
      },
      "execution_count": 147,
      "outputs": [
        {
          "output_type": "execute_result",
          "data": {
            "text/plain": [
              "array([-74.36734694, -71.10204082, -67.83673469, -64.57142857,\n",
              "       -61.30612245, -58.04081633, -54.7755102 , -51.51020408,\n",
              "       -48.24489796, -44.97959184, -41.71428571, -38.44897959,\n",
              "       -35.18367347, -31.91836735, -28.65306122, -25.3877551 ,\n",
              "       -22.12244898, -18.85714286, -15.59183673, -12.32653061,\n",
              "        -9.06122449,  -5.79591837,  -2.53061224,   0.73469388,\n",
              "         4.        ,   7.26530612,  10.53061224,  13.79591837,\n",
              "        17.06122449,  20.32653061,  23.59183673,  26.85714286,\n",
              "        30.12244898,  33.3877551 ,  36.65306122,  39.91836735,\n",
              "        43.18367347,  46.44897959,  49.71428571,  52.97959184,\n",
              "        56.24489796,  59.51020408,  62.7755102 ,  66.04081633,\n",
              "        69.30612245,  72.57142857,  75.83673469,  79.10204082,\n",
              "        82.36734694])"
            ]
          },
          "metadata": {},
          "execution_count": 147
        }
      ]
    },
    {
      "cell_type": "code",
      "source": [
        "df1.shape"
      ],
      "metadata": {
        "colab": {
          "base_uri": "https://localhost:8080/"
        },
        "id": "i9ABtC0JufnJ",
        "outputId": "252db879-7703-48c7-caa8-5292e467b61f"
      },
      "execution_count": 148,
      "outputs": [
        {
          "output_type": "execute_result",
          "data": {
            "text/plain": [
              "(49,)"
            ]
          },
          "metadata": {},
          "execution_count": 148
        }
      ]
    },
    {
      "cell_type": "code",
      "source": [
        "df2"
      ],
      "metadata": {
        "colab": {
          "base_uri": "https://localhost:8080/"
        },
        "id": "sss3Wco5u4dJ",
        "outputId": "0fd387e9-40dd-4ee6-aa1e-fb119771f29b"
      },
      "execution_count": 149,
      "outputs": [
        {
          "output_type": "execute_result",
          "data": {
            "text/plain": [
              "array([-74.36734694, -72.73469388, -69.46938776, -66.20408163,\n",
              "       -62.93877551, -59.67346939, -56.40816327, -53.14285714,\n",
              "       -49.87755102, -46.6122449 , -43.34693878, -40.08163265,\n",
              "       -36.81632653, -33.55102041, -30.28571429, -27.02040816,\n",
              "       -23.75510204, -20.48979592, -17.2244898 , -13.95918367,\n",
              "       -10.69387755,  -7.42857143,  -4.16326531,  -0.89795918,\n",
              "         2.36734694,   5.63265306,   8.89795918,  12.16326531,\n",
              "        15.42857143,  18.69387755,  21.95918367,  25.2244898 ,\n",
              "        28.48979592,  31.75510204,  35.02040816,  38.28571429,\n",
              "        41.55102041,  44.81632653,  48.08163265,  51.34693878,\n",
              "        54.6122449 ,  57.87755102,  61.14285714,  64.40816327,\n",
              "        67.67346939,  70.93877551,  74.20408163,  77.46938776,\n",
              "        80.73469388,  82.36734694])"
            ]
          },
          "metadata": {},
          "execution_count": 149
        }
      ]
    },
    {
      "cell_type": "code",
      "source": [
        "df2.shape"
      ],
      "metadata": {
        "colab": {
          "base_uri": "https://localhost:8080/"
        },
        "id": "1OVtOJtRvDhY",
        "outputId": "708df534-a1c2-4ed6-8578-76d188949820"
      },
      "execution_count": 150,
      "outputs": [
        {
          "output_type": "execute_result",
          "data": {
            "text/plain": [
              "(50,)"
            ]
          },
          "metadata": {},
          "execution_count": 150
        }
      ]
    },
    {
      "cell_type": "code",
      "source": [
        "plt.plot(X[1:],df1)"
      ],
      "metadata": {
        "colab": {
          "base_uri": "https://localhost:8080/",
          "height": 282
        },
        "id": "c0htNDqKuC3S",
        "outputId": "01d7463f-89c5-47eb-8afe-3e9d4e13c9eb"
      },
      "execution_count": 151,
      "outputs": [
        {
          "output_type": "execute_result",
          "data": {
            "text/plain": [
              "[<matplotlib.lines.Line2D at 0x7fcaa5c57450>]"
            ]
          },
          "metadata": {},
          "execution_count": 151
        },
        {
          "output_type": "display_data",
          "data": {
            "image/png": "[encoded data removed]",
            "text/plain": [
              "<Figure size 432x288 with 1 Axes>"
            ]
          },
          "metadata": {
            "needs_background": "light"
          }
        }
      ]
    },
    {
      "cell_type": "code",
      "source": [
        "plt.plot(X,df2)"
      ],
      "metadata": {
        "colab": {
          "base_uri": "https://localhost:8080/",
          "height": 282
        },
        "id": "lLI6YLINuKRE",
        "outputId": "0972a9f4-946f-4e31-de22-61981e8c8656"
      },
      "execution_count": 152,
      "outputs": [
        {
          "output_type": "execute_result",
          "data": {
            "text/plain": [
              "[<matplotlib.lines.Line2D at 0x7fcaa5bd2550>]"
            ]
          },
          "metadata": {},
          "execution_count": 152
        },
        {
          "output_type": "display_data",
          "data": {
            "image/png": "[encoded data removed]",
            "text/plain": [
              "<Figure size 432x288 with 1 Axes>"
            ]
          },
          "metadata": {
            "needs_background": "light"
          }
        }
      ]
    },
    {
      "cell_type": "markdown",
      "source": [
        "### Optimisasi"
      ],
      "metadata": {
        "id": "_4DclXMYvOSQ"
      }
    },
    {
      "cell_type": "code",
      "source": [
        "from scipy.optimize import minimize_scalar\n",
        "\n",
        "def f(x):\n",
        "  return 2*x**2+4*x-1\n",
        "\n",
        "opt=minimize_scalar(f)\n",
        "opt"
      ],
      "metadata": {
        "colab": {
          "base_uri": "https://localhost:8080/"
        },
        "id": "jyCzWlmZvQVI",
        "outputId": "2e62b574-105d-4fe6-815b-fd22dbaa4da1"
      },
      "execution_count": 153,
      "outputs": [
        {
          "output_type": "execute_result",
          "data": {
            "text/plain": [
              "     fun: -3.0\n",
              "    nfev: 9\n",
              "     nit: 4\n",
              " success: True\n",
              "       x: -1.0000000000000002"
            ]
          },
          "metadata": {},
          "execution_count": 153
        }
      ]
    },
    {
      "cell_type": "code",
      "source": [
        "def f3(x):\n",
        "  return -(x**3 - 6*x**2 + 9*x + 1)\n",
        "\n",
        "minimize_scalar(f3)"
      ],
      "metadata": {
        "colab": {
          "base_uri": "https://localhost:8080/"
        },
        "id": "L-34_xYUw9K9",
        "outputId": "a55ca8fd-779a-4323-a022-c2fbcf1c656a"
      },
      "execution_count": 154,
      "outputs": [
        {
          "output_type": "execute_result",
          "data": {
            "text/plain": [
              "     fun: -5.0\n",
              "    nfev: 13\n",
              "     nit: 9\n",
              " success: True\n",
              "       x: 0.99999998519"
            ]
          },
          "metadata": {},
          "execution_count": 154
        }
      ]
    },
    {
      "cell_type": "code",
      "source": [
        "print('Global maximum:' ,minimize_scalar(f3).fun*(-1))"
      ],
      "metadata": {
        "colab": {
          "base_uri": "https://localhost:8080/"
        },
        "id": "TDHZF-zPzr5f",
        "outputId": "9a36c1a5-7f7f-40ef-8f98-042fe88f4d7f"
      },
      "execution_count": 155,
      "outputs": [
        {
          "output_type": "stream",
          "name": "stdout",
          "text": [
            "Global maximum: 5.0\n"
          ]
        }
      ]
    },
    {
      "cell_type": "code",
      "source": [
        "Y3 = X**3 - 6*X**2 + 9*X + 1\n",
        "plt.plot(X,-Y3)"
      ],
      "metadata": {
        "colab": {
          "base_uri": "https://localhost:8080/",
          "height": 282
        },
        "id": "01HhnKaGxAOs",
        "outputId": "5286c416-6866-4c7c-bed3-bbfd327455a5"
      },
      "execution_count": 156,
      "outputs": [
        {
          "output_type": "execute_result",
          "data": {
            "text/plain": [
              "[<matplotlib.lines.Line2D at 0x7fcaa608fa50>]"
            ]
          },
          "metadata": {},
          "execution_count": 156
        },
        {
          "output_type": "display_data",
          "data": {
            "image/png": "[encoded data removed]",
            "text/plain": [
              "<Figure size 432x288 with 1 Axes>"
            ]
          },
          "metadata": {
            "needs_background": "light"
          }
        }
      ]
    },
    {
      "cell_type": "markdown",
      "source": [
        "### Turunan parsial"
      ],
      "metadata": {
        "id": "kib29ON5YK6A"
      }
    },
    {
      "cell_type": "code",
      "source": [
        "x,y,z = sy.symbols('x y z')\n",
        "f = 4*x*y + x*sy.sin(z) + x**3 + z**8*y\n",
        "f"
      ],
      "metadata": {
        "colab": {
          "base_uri": "https://localhost:8080/",
          "height": 39
        },
        "id": "8osLcM_-YR43",
        "outputId": "cb4a9fd1-7698-48ad-c590-4eebcebb1d64"
      },
      "execution_count": 157,
      "outputs": [
        {
          "output_type": "execute_result",
          "data": {
            "text/latex": "$\\displaystyle x^{3} + 4 x y + x \\sin{\\left(z \\right)} + y z^{8}$",
            "text/plain": [
              "x**3 + 4*x*y + x*sin(z) + y*z**8"
            ]
          },
          "metadata": {},
          "execution_count": 157
        }
      ]
    },
    {
      "cell_type": "code",
      "source": [
        "x = sy.Symbol('x')\n",
        "y = sy.Symbol('y')\n",
        "z = sy.Symbol('z')"
      ],
      "metadata": {
        "id": "0fVB_dntYfr0"
      },
      "execution_count": 158,
      "outputs": []
    },
    {
      "cell_type": "code",
      "source": [
        "#Turunan parsial terhadap x\n",
        "sy.diff(f,x)"
      ],
      "metadata": {
        "colab": {
          "base_uri": "https://localhost:8080/",
          "height": 39
        },
        "id": "4NbyIkPTYVzJ",
        "outputId": "beebc70b-e80b-4698-e317-b8b127b45723"
      },
      "execution_count": 159,
      "outputs": [
        {
          "output_type": "execute_result",
          "data": {
            "text/latex": "$\\displaystyle 3 x^{2} + 4 y + \\sin{\\left(z \\right)}$",
            "text/plain": [
              "3*x**2 + 4*y + sin(z)"
            ]
          },
          "metadata": {},
          "execution_count": 159
        }
      ]
    },
    {
      "cell_type": "code",
      "source": [
        "#Turunan parsial terhadap y\n",
        "sy.diff(f,y)"
      ],
      "metadata": {
        "colab": {
          "base_uri": "https://localhost:8080/",
          "height": 39
        },
        "id": "4paKTBO4YaRa",
        "outputId": "6393c892-86f3-4de9-9492-429de5124c85"
      },
      "execution_count": 160,
      "outputs": [
        {
          "output_type": "execute_result",
          "data": {
            "text/latex": "$\\displaystyle 4 x + z^{8}$",
            "text/plain": [
              "4*x + z**8"
            ]
          },
          "metadata": {},
          "execution_count": 160
        }
      ]
    },
    {
      "cell_type": "code",
      "source": [
        "f.diff(z)"
      ],
      "metadata": {
        "colab": {
          "base_uri": "https://localhost:8080/",
          "height": 39
        },
        "id": "5ffPDKB1YcFG",
        "outputId": "eb4f38a4-3de1-4f51-a7b8-bbd668d9a0db"
      },
      "execution_count": 161,
      "outputs": [
        {
          "output_type": "execute_result",
          "data": {
            "text/latex": "$\\displaystyle x \\cos{\\left(z \\right)} + 8 y z^{7}$",
            "text/plain": [
              "x*cos(z) + 8*y*z**7"
            ]
          },
          "metadata": {},
          "execution_count": 161
        }
      ]
    },
    {
      "cell_type": "markdown",
      "source": [
        "### Gradien"
      ],
      "metadata": {
        "id": "m3pbljpwY0u2"
      }
    },
    {
      "cell_type": "code",
      "source": [
        "from sympy.tensor.array import derive_by_array\n",
        "grad = derive_by_array(f, (x,y,z))\n",
        "grad"
      ],
      "metadata": {
        "colab": {
          "base_uri": "https://localhost:8080/",
          "height": 38
        },
        "id": "Bf8Xw8WJY27l",
        "outputId": "9cf6c4ad-f8b7-4e88-c627-06ffb55addac"
      },
      "execution_count": 162,
      "outputs": [
        {
          "output_type": "execute_result",
          "data": {
            "text/latex": "$\\displaystyle \\left[\\begin{matrix}3 x^{2} + 4 y + \\sin{\\left(z \\right)} & 4 x + z^{8} & x \\cos{\\left(z \\right)} + 8 y z^{7}\\end{matrix}\\right]$",
            "text/plain": [
              "[3*x**2 + 4*y + sin(z), 4*x + z**8, x*cos(z) + 8*y*z**7]"
            ]
          },
          "metadata": {},
          "execution_count": 162
        }
      ]
    },
    {
      "cell_type": "code",
      "source": [
        "type(grad)"
      ],
      "metadata": {
        "colab": {
          "base_uri": "https://localhost:8080/"
        },
        "id": "Y2o0VFQ9at38",
        "outputId": "ee79dec9-acfa-49d6-af52-b76dd0d92709"
      },
      "execution_count": 163,
      "outputs": [
        {
          "output_type": "execute_result",
          "data": {
            "text/plain": [
              "sympy.tensor.array.dense_ndim_array.ImmutableDenseNDimArray"
            ]
          },
          "metadata": {},
          "execution_count": 163
        }
      ]
    },
    {
      "cell_type": "markdown",
      "source": [
        "### Jacobian"
      ],
      "metadata": {
        "id": "_mMy54z6ZggV"
      }
    },
    {
      "cell_type": "code",
      "source": [
        "f_jacob =sy.Matrix([x**y+y, 2*x*y-2])\n",
        "f_jacob"
      ],
      "metadata": {
        "colab": {
          "base_uri": "https://localhost:8080/",
          "height": 58
        },
        "id": "tifvLQB_ZkZQ",
        "outputId": "a8dd6475-3987-4a7d-8b9f-3583fe2bdfbb"
      },
      "execution_count": 164,
      "outputs": [
        {
          "output_type": "execute_result",
          "data": {
            "text/latex": "$\\displaystyle \\left[\\begin{matrix}x^{y} + y\\\\2 x y - 2\\end{matrix}\\right]$",
            "text/plain": [
              "Matrix([\n",
              "[ x**y + y],\n",
              "[2*x*y - 2]])"
            ]
          },
          "metadata": {},
          "execution_count": 164
        }
      ]
    },
    {
      "cell_type": "code",
      "source": [
        "par = sy.Matrix([x,y])\n",
        "f_jacob.jacobian(par)"
      ],
      "metadata": {
        "colab": {
          "base_uri": "https://localhost:8080/",
          "height": 60
        },
        "id": "UlV3P4-RZojx",
        "outputId": "83bb6bce-a1f6-482e-bc35-46669318f448"
      },
      "execution_count": 165,
      "outputs": [
        {
          "output_type": "execute_result",
          "data": {
            "text/latex": "$\\displaystyle \\left[\\begin{matrix}\\frac{x^{y} y}{x} & x^{y} \\log{\\left(x \\right)} + 1\\\\2 y & 2 x\\end{matrix}\\right]$",
            "text/plain": [
              "Matrix([\n",
              "[x**y*y/x, x**y*log(x) + 1],\n",
              "[     2*y,             2*x]])"
            ]
          },
          "metadata": {},
          "execution_count": 165
        }
      ]
    },
    {
      "cell_type": "code",
      "source": [
        "sy.Matrix(grad).jacobian(sy.Matrix([x,y,z]))"
      ],
      "metadata": {
        "colab": {
          "base_uri": "https://localhost:8080/",
          "height": 78
        },
        "id": "HwGGeNcxZp6X",
        "outputId": "8ebcd976-573c-4bf9-b843-8249251e5c49"
      },
      "execution_count": 166,
      "outputs": [
        {
          "output_type": "execute_result",
          "data": {
            "text/latex": "$\\displaystyle \\left[\\begin{matrix}6 x & 4 & \\cos{\\left(z \\right)}\\\\4 & 0 & 8 z^{7}\\\\\\cos{\\left(z \\right)} & 8 z^{7} & - x \\sin{\\left(z \\right)} + 56 y z^{6}\\end{matrix}\\right]$",
            "text/plain": [
              "Matrix([\n",
              "[   6*x,      4,                cos(z)],\n",
              "[     4,      0,                8*z**7],\n",
              "[cos(z), 8*z**7, -x*sin(z) + 56*y*z**6]])"
            ]
          },
          "metadata": {},
          "execution_count": 166
        }
      ]
    },
    {
      "cell_type": "code",
      "source": [
        "type(f_jacob)"
      ],
      "metadata": {
        "colab": {
          "base_uri": "https://localhost:8080/"
        },
        "id": "h9FtN8w-axO3",
        "outputId": "9fbf0742-3e63-4e50-c4d4-ee14c21c7c98"
      },
      "execution_count": 167,
      "outputs": [
        {
          "output_type": "execute_result",
          "data": {
            "text/plain": [
              "sympy.matrices.dense.MutableDenseMatrix"
            ]
          },
          "metadata": {},
          "execution_count": 167
        }
      ]
    },
    {
      "cell_type": "code",
      "source": [
        "matrix_grad = sy.Matrix(grad)\n",
        "vars = sy.Matrix([x,y,z])\n",
        "matrix_grad.jacobian(vars)"
      ],
      "metadata": {
        "colab": {
          "base_uri": "https://localhost:8080/",
          "height": 78
        },
        "id": "Wpj0ibUKa5ic",
        "outputId": "35834943-4a7f-439c-bde3-51a7da6701c0"
      },
      "execution_count": 168,
      "outputs": [
        {
          "output_type": "execute_result",
          "data": {
            "text/latex": "$\\displaystyle \\left[\\begin{matrix}6 x & 4 & \\cos{\\left(z \\right)}\\\\4 & 0 & 8 z^{7}\\\\\\cos{\\left(z \\right)} & 8 z^{7} & - x \\sin{\\left(z \\right)} + 56 y z^{6}\\end{matrix}\\right]$",
            "text/plain": [
              "Matrix([\n",
              "[   6*x,      4,                cos(z)],\n",
              "[     4,      0,                8*z**7],\n",
              "[cos(z), 8*z**7, -x*sin(z) + 56*y*z**6]])"
            ]
          },
          "metadata": {},
          "execution_count": 168
        }
      ]
    },
    {
      "cell_type": "markdown",
      "source": [
        "### Hesian"
      ],
      "metadata": {
        "id": "GPEWPBbycYiA"
      }
    },
    {
      "cell_type": "code",
      "source": [
        "f"
      ],
      "metadata": {
        "colab": {
          "base_uri": "https://localhost:8080/",
          "height": 39
        },
        "id": "9rZLeXpNepEY",
        "outputId": "76681d3a-fccb-42a2-9430-f16559e1ea87"
      },
      "execution_count": 169,
      "outputs": [
        {
          "output_type": "execute_result",
          "data": {
            "text/latex": "$\\displaystyle x^{3} + 4 x y + x \\sin{\\left(z \\right)} + y z^{8}$",
            "text/plain": [
              "x**3 + 4*x*y + x*sin(z) + y*z**8"
            ]
          },
          "metadata": {},
          "execution_count": 169
        }
      ]
    },
    {
      "cell_type": "code",
      "source": [
        "sy.hessian(f,(x,y,z))"
      ],
      "metadata": {
        "colab": {
          "base_uri": "https://localhost:8080/",
          "height": 78
        },
        "id": "lzSFN5EicZ-l",
        "outputId": "79ddd43b-118b-4771-8783-56415fa54cb1"
      },
      "execution_count": 170,
      "outputs": [
        {
          "output_type": "execute_result",
          "data": {
            "text/latex": "$\\displaystyle \\left[\\begin{matrix}6 x & 4 & \\cos{\\left(z \\right)}\\\\4 & 0 & 8 z^{7}\\\\\\cos{\\left(z \\right)} & 8 z^{7} & - x \\sin{\\left(z \\right)} + 56 y z^{6}\\end{matrix}\\right]$",
            "text/plain": [
              "Matrix([\n",
              "[   6*x,      4,                cos(z)],\n",
              "[     4,      0,                8*z**7],\n",
              "[cos(z), 8*z**7, -x*sin(z) + 56*y*z**6]])"
            ]
          },
          "metadata": {},
          "execution_count": 170
        }
      ]
    },
    {
      "cell_type": "markdown",
      "source": [
        "### Turunan Parsial Numerik"
      ],
      "metadata": {
        "id": "I00OLWZ4f8vd"
      }
    },
    {
      "cell_type": "code",
      "source": [
        "import numpy as np\n",
        "def f(x,y): \n",
        "  return x**2*y+2*x**3*y+y**4\n",
        "\n",
        "x=np.linspace(1,10)\n",
        "y=np.linspace(1,10)\n",
        "\n",
        "z=np.array( [[f(i,j) for i in x] for j in y] )\n",
        "\n",
        "dx,dy = np.gradient(z)"
      ],
      "metadata": {
        "id": "_LRPCjv0f6OI"
      },
      "execution_count": 171,
      "outputs": []
    },
    {
      "cell_type": "code",
      "source": [
        "z.shape"
      ],
      "metadata": {
        "colab": {
          "base_uri": "https://localhost:8080/"
        },
        "id": "XD2o5ijygABw",
        "outputId": "d97454f6-f62a-493f-dc47-7515497ef77b"
      },
      "execution_count": 172,
      "outputs": [
        {
          "output_type": "execute_result",
          "data": {
            "text/plain": [
              "(50, 50)"
            ]
          },
          "metadata": {},
          "execution_count": 172
        }
      ]
    },
    {
      "cell_type": "code",
      "source": [
        "dx"
      ],
      "metadata": {
        "colab": {
          "base_uri": "https://localhost:8080/"
        },
        "id": "MMsQAN3igBY4",
        "outputId": "e7c66395-b830-41e4-e117-405e527049f6"
      },
      "execution_count": 173,
      "outputs": [
        {
          "output_type": "execute_result",
          "data": {
            "text/plain": [
              "array([[   1.51405365,    1.82959221,    2.2455377 , ...,  346.33846043,\n",
              "         366.13673811,  386.67731896],\n",
              "       [   1.79879288,    2.11433144,    2.53027693, ...,  346.62319966,\n",
              "         366.42147734,  386.96205819],\n",
              "       [   2.46311416,    2.77865272,    3.19459822, ...,  347.28752094,\n",
              "         367.08579863,  387.62637947],\n",
              "       ...,\n",
              "       [ 657.45523618,  657.77077474,  658.18672024, ..., 1002.27964296,\n",
              "        1022.07792064, 1042.61850149],\n",
              "       [ 695.74408466,  696.05962322,  696.47556871, ..., 1040.56849144,\n",
              "        1060.36676912, 1080.90734997],\n",
              "       [ 715.25004974,  715.5655883 ,  715.98153379, ..., 1060.07445652,\n",
              "        1079.8727342 , 1100.41331505]])"
            ]
          },
          "metadata": {},
          "execution_count": 173
        }
      ]
    },
    {
      "cell_type": "code",
      "source": [
        "dy"
      ],
      "metadata": {
        "colab": {
          "base_uri": "https://localhost:8080/"
        },
        "id": "PzEus10FgIXa",
        "outputId": "038b8d1a-f97a-4b88-e136-fde1c1db6db0"
      },
      "execution_count": 174,
      "outputs": [
        {
          "output_type": "execute_result",
          "data": {
            "text/plain": [
              "array([[   1.71793215,    1.99126214,    2.57510051, ...,  105.80708718,\n",
              "         109.81133711,  111.83205127],\n",
              "       [   2.03347071,    2.35700417,    3.04807816, ...,  125.24104197,\n",
              "         129.98076638,  132.37263212],\n",
              "       [   2.34900927,    2.7227462 ,    3.5210558 , ...,  144.67499676,\n",
              "         150.15019564,  152.91321296],\n",
              "       ...,\n",
              "       [  16.54824442,   19.18113739,   24.80504982, ..., 1019.20296225,\n",
              "        1057.7745126 , 1077.23935102],\n",
              "       [  16.86378298,   19.54687942,   25.27802746, ..., 1038.63691704,\n",
              "        1077.94394186, 1097.77993187],\n",
              "       [  17.17932154,   19.91262144,   25.75100511, ..., 1058.07087183,\n",
              "        1098.11337113, 1118.32051271]])"
            ]
          },
          "metadata": {},
          "execution_count": 174
        }
      ]
    },
    {
      "cell_type": "code",
      "source": [
        "#Plot z,dx,dy yang dianggap sebagai sebuah gambar\n",
        "\n",
        "fig, ax = plt.subplots(ncols=3,figsize=(17,5))\n",
        "ax[0].imshow(z)\n",
        "ax[0].set_title('f(x,y)')\n",
        "ax[1].imshow(dx)\n",
        "ax[1].set_title('dx')\n",
        "ax[2].imshow(dy)\n",
        "ax[2].set_title('dy')"
      ],
      "metadata": {
        "colab": {
          "base_uri": "https://localhost:8080/",
          "height": 354
        },
        "id": "LlQg11xJgMyg",
        "outputId": "423b2996-252c-4e39-86fb-b16d3caeef02"
      },
      "execution_count": 175,
      "outputs": [
        {
          "output_type": "execute_result",
          "data": {
            "text/plain": [
              "Text(0.5, 1.0, 'dy')"
            ]
          },
          "metadata": {},
          "execution_count": 175
        },
        {
          "output_type": "display_data",
          "data": {
            "image/png": "[encoded data removed]",
            "text/plain": [
              "<Figure size 1224x360 with 3 Axes>"
            ]
          },
          "metadata": {
            "needs_background": "light"
          }
        }
      ]
    },
    {
      "cell_type": "markdown",
      "source": [
        "### **Integral**\n",
        "### Symbol"
      ],
      "metadata": {
        "id": "Ml5js9eeitpK"
      }
    },
    {
      "cell_type": "code",
      "source": [
        "x = sy.Symbol('x')\n",
        "f = 2*x**2+4*x-1\n",
        "f"
      ],
      "metadata": {
        "colab": {
          "base_uri": "https://localhost:8080/",
          "height": 39
        },
        "id": "yTmk99I5hQC2",
        "outputId": "4a3f4e58-85ac-4d3e-a75d-80fdf7e86dfc"
      },
      "execution_count": 176,
      "outputs": [
        {
          "output_type": "execute_result",
          "data": {
            "text/latex": "$\\displaystyle 2 x^{2} + 4 x - 1$",
            "text/plain": [
              "2*x**2 + 4*x - 1"
            ]
          },
          "metadata": {},
          "execution_count": 176
        }
      ]
    },
    {
      "cell_type": "markdown",
      "source": [
        "#### Numeric - Fungsi"
      ],
      "metadata": {
        "id": "UDF8p8I5i_by"
      }
    },
    {
      "cell_type": "code",
      "source": [
        "from scipy import integrate\n",
        "\n",
        "def f(x):\n",
        "  return 2*x**2+4*x-1\n",
        "  \n",
        "A = integrate.quad(f,2,5)\n",
        "print(A)"
      ],
      "metadata": {
        "colab": {
          "base_uri": "https://localhost:8080/"
        },
        "id": "OxDhv5STjBA5",
        "outputId": "6875a102-2080-4e8b-f993-a214de02736a"
      },
      "execution_count": 177,
      "outputs": [
        {
          "output_type": "stream",
          "name": "stdout",
          "text": [
            "(117.0, 1.2989609388114332e-12)\n"
          ]
        }
      ]
    },
    {
      "cell_type": "markdown",
      "source": [
        "#### Numeric - Data/Array"
      ],
      "metadata": {
        "id": "_32JhCeyjF5h"
      }
    },
    {
      "cell_type": "code",
      "source": [
        "from scipy import integrate\n",
        "import numpy as np\n",
        "\n",
        "def f(x):\n",
        "  return 2*x**2+4*x-1\n",
        "\n",
        "x = np.linspace(2,5)\n",
        "y = f(x)\n",
        "\n",
        "A = integrate.trapz(y,x)\n",
        "A"
      ],
      "metadata": {
        "colab": {
          "base_uri": "https://localhost:8080/"
        },
        "id": "dznccWGWjEEp",
        "outputId": "f07a4e54-7140-45eb-8765-713f02148497"
      },
      "execution_count": 178,
      "outputs": [
        {
          "output_type": "execute_result",
          "data": {
            "text/plain": [
              "117.00374843815077"
            ]
          },
          "metadata": {},
          "execution_count": 178
        }
      ]
    },
    {
      "cell_type": "code",
      "source": [
        "#Case Menghitung Total Pendapatan tahun 2019 di Supermarket Cabang Yangon\n",
        "import pandas as pd\n",
        "\n",
        "data = pd.read_csv('https://raw.githubusercontent.com/fahmimnalfrzki/ds-masterclass-h8-vol2/main/data/supermarket_sales%20-%20Sheet1.csv')\n",
        "data = data[data['City']=='Yangon'].sort_values(['Date','Time']).reset_index(drop=True)\n",
        "data.head()"
      ],
      "metadata": {
        "colab": {
          "base_uri": "https://localhost:8080/",
          "height": 0
        },
        "id": "U-KmEY7kjL6C",
        "outputId": "0991e909-daf7-4be7-b28e-1fbd78115450"
      },
      "execution_count": 179,
      "outputs": [
        {
          "output_type": "execute_result",
          "data": {
            "text/html": [
              "\n",
              "  <div id=\"df-685e9697-595a-4eab-8175-c5d855fffabf\">\n",
              "    <div class=\"colab-df-container\">\n",
              "      <div>\n",
              "<style scoped>\n",
              "    .dataframe tbody tr th:only-of-type {\n",
              "        vertical-align: middle;\n",
              "    }\n",
              "\n",
              "    .dataframe tbody tr th {\n",
              "        vertical-align: top;\n",
              "    }\n",
              "\n",
              "    .dataframe thead th {\n",
              "        text-align: right;\n",
              "    }\n",
              "</style>\n",
              "<table border=\"1\" class=\"dataframe\">\n",
              "  <thead>\n",
              "    <tr style=\"text-align: right;\">\n",
              "      <th></th>\n",
              "      <th>Invoice ID</th>\n",
              "      <th>Branch</th>\n",
              "      <th>City</th>\n",
              "      <th>Customer type</th>\n",
              "      <th>Gender</th>\n",
              "      <th>Product line</th>\n",
              "      <th>Unit price</th>\n",
              "      <th>Quantity</th>\n",
              "      <th>Tax 5%</th>\n",
              "      <th>Total</th>\n",
              "      <th>Date</th>\n",
              "      <th>Time</th>\n",
              "      <th>Payment</th>\n",
              "      <th>cogs</th>\n",
              "      <th>gross margin percentage</th>\n",
              "      <th>gross income</th>\n",
              "      <th>Rating</th>\n",
              "    </tr>\n",
              "  </thead>\n",
              "  <tbody>\n",
              "    <tr>\n",
              "      <th>0</th>\n",
              "      <td>765-26-6951</td>\n",
              "      <td>A</td>\n",
              "      <td>Yangon</td>\n",
              "      <td>Normal</td>\n",
              "      <td>Male</td>\n",
              "      <td>Sports and travel</td>\n",
              "      <td>72.61</td>\n",
              "      <td>6</td>\n",
              "      <td>21.783</td>\n",
              "      <td>457.443</td>\n",
              "      <td>1/1/2019</td>\n",
              "      <td>10:39</td>\n",
              "      <td>Credit card</td>\n",
              "      <td>435.66</td>\n",
              "      <td>4.761905</td>\n",
              "      <td>21.783</td>\n",
              "      <td>6.9</td>\n",
              "    </tr>\n",
              "    <tr>\n",
              "      <th>1</th>\n",
              "      <td>651-88-7328</td>\n",
              "      <td>A</td>\n",
              "      <td>Yangon</td>\n",
              "      <td>Normal</td>\n",
              "      <td>Female</td>\n",
              "      <td>Fashion accessories</td>\n",
              "      <td>65.74</td>\n",
              "      <td>9</td>\n",
              "      <td>29.583</td>\n",
              "      <td>621.243</td>\n",
              "      <td>1/1/2019</td>\n",
              "      <td>13:55</td>\n",
              "      <td>Cash</td>\n",
              "      <td>591.66</td>\n",
              "      <td>4.761905</td>\n",
              "      <td>29.583</td>\n",
              "      <td>7.7</td>\n",
              "    </tr>\n",
              "    <tr>\n",
              "      <th>2</th>\n",
              "      <td>416-17-9926</td>\n",
              "      <td>A</td>\n",
              "      <td>Yangon</td>\n",
              "      <td>Member</td>\n",
              "      <td>Female</td>\n",
              "      <td>Electronic accessories</td>\n",
              "      <td>74.22</td>\n",
              "      <td>10</td>\n",
              "      <td>37.110</td>\n",
              "      <td>779.310</td>\n",
              "      <td>1/1/2019</td>\n",
              "      <td>14:42</td>\n",
              "      <td>Credit card</td>\n",
              "      <td>742.20</td>\n",
              "      <td>4.761905</td>\n",
              "      <td>37.110</td>\n",
              "      <td>4.3</td>\n",
              "    </tr>\n",
              "    <tr>\n",
              "      <th>3</th>\n",
              "      <td>530-90-9855</td>\n",
              "      <td>A</td>\n",
              "      <td>Yangon</td>\n",
              "      <td>Member</td>\n",
              "      <td>Male</td>\n",
              "      <td>Home and lifestyle</td>\n",
              "      <td>47.59</td>\n",
              "      <td>8</td>\n",
              "      <td>19.036</td>\n",
              "      <td>399.756</td>\n",
              "      <td>1/1/2019</td>\n",
              "      <td>14:47</td>\n",
              "      <td>Cash</td>\n",
              "      <td>380.72</td>\n",
              "      <td>4.761905</td>\n",
              "      <td>19.036</td>\n",
              "      <td>5.7</td>\n",
              "    </tr>\n",
              "    <tr>\n",
              "      <th>4</th>\n",
              "      <td>182-52-7000</td>\n",
              "      <td>A</td>\n",
              "      <td>Yangon</td>\n",
              "      <td>Member</td>\n",
              "      <td>Female</td>\n",
              "      <td>Sports and travel</td>\n",
              "      <td>27.04</td>\n",
              "      <td>4</td>\n",
              "      <td>5.408</td>\n",
              "      <td>113.568</td>\n",
              "      <td>1/1/2019</td>\n",
              "      <td>20:26</td>\n",
              "      <td>Ewallet</td>\n",
              "      <td>108.16</td>\n",
              "      <td>4.761905</td>\n",
              "      <td>5.408</td>\n",
              "      <td>6.9</td>\n",
              "    </tr>\n",
              "  </tbody>\n",
              "</table>\n",
              "</div>\n",
              "      <button class=\"colab-df-convert\" onclick=\"convertToInteractive('df-685e9697-595a-4eab-8175-c5d855fffabf')\"\n",
              "              title=\"Convert this dataframe to an interactive table.\"\n",
              "              style=\"display:none;\">\n",
              "        \n",
              "  <svg xmlns=\"http://www.w3.org/2000/svg\" height=\"24px\"viewBox=\"0 0 24 24\"\n",
              "       width=\"24px\">\n",
              "    <path d=\"M0 0h24v24H0V0z\" fill=\"none\"/>\n",
              "    <path d=\"M18.56 5.44l.94 2.06.94-2.06 2.06-.94-2.06-.94-.94-2.06-.94 2.06-2.06.94zm-11 1L8.5 8.5l.94-2.06 2.06-.94-2.06-.94L8.5 2.5l-.94 2.06-2.06.94zm10 10l.94 2.06.94-2.06 2.06-.94-2.06-.94-.94-2.06-.94 2.06-2.06.94z\"/><path d=\"M17.41 7.96l-1.37-1.37c-.4-.4-.92-.59-1.43-.59-.52 0-1.04.2-1.43.59L10.3 9.45l-7.72 7.72c-.78.78-.78 2.05 0 2.83L4 21.41c.39.39.9.59 1.41.59.51 0 1.02-.2 1.41-.59l7.78-7.78 2.81-2.81c.8-.78.8-2.07 0-2.86zM5.41 20L4 18.59l7.72-7.72 1.47 1.35L5.41 20z\"/>\n",
              "  </svg>\n",
              "      </button>\n",
              "      \n",
              "  <style>\n",
              "    .colab-df-container {\n",
              "      display:flex;\n",
              "      flex-wrap:wrap;\n",
              "      gap: 12px;\n",
              "    }\n",
              "\n",
              "    .colab-df-convert {\n",
              "      background-color: #E8F0FE;\n",
              "      border: none;\n",
              "      border-radius: 50%;\n",
              "      cursor: pointer;\n",
              "      display: none;\n",
              "      fill: #1967D2;\n",
              "      height: 32px;\n",
              "      padding: 0 0 0 0;\n",
              "      width: 32px;\n",
              "    }\n",
              "\n",
              "    .colab-df-convert:hover {\n",
              "      background-color: #E2EBFA;\n",
              "      box-shadow: 0px 1px 2px rgba(60, 64, 67, 0.3), 0px 1px 3px 1px rgba(60, 64, 67, 0.15);\n",
              "      fill: #174EA6;\n",
              "    }\n",
              "\n",
              "    [theme=dark] .colab-df-convert {\n",
              "      background-color: #3B4455;\n",
              "      fill: #D2E3FC;\n",
              "    }\n",
              "\n",
              "    [theme=dark] .colab-df-convert:hover {\n",
              "      background-color: #434B5C;\n",
              "      box-shadow: 0px 1px 3px 1px rgba(0, 0, 0, 0.15);\n",
              "      filter: drop-shadow(0px 1px 2px rgba(0, 0, 0, 0.3));\n",
              "      fill: #FFFFFF;\n",
              "    }\n",
              "  </style>\n",
              "\n",
              "      <script>\n",
              "        const buttonEl =\n",
              "          document.querySelector('#df-685e9697-595a-4eab-8175-c5d855fffabf button.colab-df-convert');\n",
              "        buttonEl.style.display =\n",
              "          google.colab.kernel.accessAllowed ? 'block' : 'none';\n",
              "\n",
              "        async function convertToInteractive(key) {\n",
              "          const element = document.querySelector('#df-685e9697-595a-4eab-8175-c5d855fffabf');\n",
              "          const dataTable =\n",
              "            await google.colab.kernel.invokeFunction('convertToInteractive',\n",
              "                                                     [key], {});\n",
              "          if (!dataTable) return;\n",
              "\n",
              "          const docLinkHtml = 'Like what you see? Visit the ' +\n",
              "            '<a target=\"_blank\" href=https://colab.research.google.com/notebooks/data_table.ipynb>data table notebook</a>'\n",
              "            + ' to learn more about interactive tables.';\n",
              "          element.innerHTML = '';\n",
              "          dataTable['output_type'] = 'display_data';\n",
              "          await google.colab.output.renderOutput(dataTable, element);\n",
              "          const docLink = document.createElement('div');\n",
              "          docLink.innerHTML = docLinkHtml;\n",
              "          element.appendChild(docLink);\n",
              "        }\n",
              "      </script>\n",
              "    </div>\n",
              "  </div>\n",
              "  "
            ],
            "text/plain": [
              "    Invoice ID Branch    City  ... gross margin percentage gross income Rating\n",
              "0  765-26-6951      A  Yangon  ...                4.761905       21.783    6.9\n",
              "1  651-88-7328      A  Yangon  ...                4.761905       29.583    7.7\n",
              "2  416-17-9926      A  Yangon  ...                4.761905       37.110    4.3\n",
              "3  530-90-9855      A  Yangon  ...                4.761905       19.036    5.7\n",
              "4  182-52-7000      A  Yangon  ...                4.761905        5.408    6.9\n",
              "\n",
              "[5 rows x 17 columns]"
            ]
          },
          "metadata": {},
          "execution_count": 179
        }
      ]
    },
    {
      "cell_type": "code",
      "source": [
        "data['gross income'].plot(kind='line')"
      ],
      "metadata": {
        "colab": {
          "base_uri": "https://localhost:8080/",
          "height": 0
        },
        "id": "qPv9VQc2jOsq",
        "outputId": "de73641a-663a-4b0a-e367-0a70ffb531da"
      },
      "execution_count": 180,
      "outputs": [
        {
          "output_type": "execute_result",
          "data": {
            "text/plain": [
              "<matplotlib.axes._subplots.AxesSubplot at 0x7fcaa5a21c90>"
            ]
          },
          "metadata": {},
          "execution_count": 180
        },
        {
          "output_type": "display_data",
          "data": {
            "image/png": "[encoded data removed]",
            "text/plain": [
              "<Figure size 432x288 with 1 Axes>"
            ]
          },
          "metadata": {
            "needs_background": "light"
          }
        }
      ]
    },
    {
      "cell_type": "code",
      "source": [
        "x = data.index\n",
        "y = data['gross income']\n",
        "\n",
        "total_gross_income_2019 = integrate.trapz(y,x)\n",
        "print('Total Gross Income in 2019:',total_gross_income_2019)"
      ],
      "metadata": {
        "colab": {
          "base_uri": "https://localhost:8080/"
        },
        "id": "mCM5JPb1jSHx",
        "outputId": "90e26ebc-8309-4c4b-af27-4f30c6999666"
      },
      "execution_count": 181,
      "outputs": [
        {
          "output_type": "stream",
          "name": "stdout",
          "text": [
            "Total Gross Income in 2019: 5033.7964999999995\n"
          ]
        }
      ]
    },
    {
      "cell_type": "code",
      "source": [
        "data['Date'] = data['Date'].astype('datetime64[ns]')\n",
        "data.info()"
      ],
      "metadata": {
        "colab": {
          "base_uri": "https://localhost:8080/"
        },
        "id": "nizqiW_BjUUJ",
        "outputId": "05f5bb96-fd57-4abb-caa6-d065e08b4b26"
      },
      "execution_count": 182,
      "outputs": [
        {
          "output_type": "stream",
          "name": "stdout",
          "text": [
            "<class 'pandas.core.frame.DataFrame'>\n",
            "RangeIndex: 340 entries, 0 to 339\n",
            "Data columns (total 17 columns):\n",
            " #   Column                   Non-Null Count  Dtype         \n",
            "---  ------                   --------------  -----         \n",
            " 0   Invoice ID               340 non-null    object        \n",
            " 1   Branch                   340 non-null    object        \n",
            " 2   City                     340 non-null    object        \n",
            " 3   Customer type            340 non-null    object        \n",
            " 4   Gender                   340 non-null    object        \n",
            " 5   Product line             340 non-null    object        \n",
            " 6   Unit price               340 non-null    float64       \n",
            " 7   Quantity                 340 non-null    int64         \n",
            " 8   Tax 5%                   340 non-null    float64       \n",
            " 9   Total                    340 non-null    float64       \n",
            " 10  Date                     340 non-null    datetime64[ns]\n",
            " 11  Time                     340 non-null    object        \n",
            " 12  Payment                  340 non-null    object        \n",
            " 13  cogs                     340 non-null    float64       \n",
            " 14  gross margin percentage  340 non-null    float64       \n",
            " 15  gross income             340 non-null    float64       \n",
            " 16  Rating                   340 non-null    float64       \n",
            "dtypes: datetime64[ns](1), float64(7), int64(1), object(8)\n",
            "memory usage: 45.3+ KB\n"
          ]
        }
      ]
    },
    {
      "cell_type": "code",
      "source": [
        "data['Month'] = data['Date'].dt.month"
      ],
      "metadata": {
        "id": "9fVEV_GLjWZx"
      },
      "execution_count": 183,
      "outputs": []
    },
    {
      "cell_type": "code",
      "source": [
        "data_bulanan = data.groupby('Month').sum()\n",
        "data_bulanan"
      ],
      "metadata": {
        "colab": {
          "base_uri": "https://localhost:8080/",
          "height": 0
        },
        "id": "1uWzS36sjZCJ",
        "outputId": "d4bffe7b-b91c-45e3-b6e9-854f1dcb7863"
      },
      "execution_count": 184,
      "outputs": [
        {
          "output_type": "execute_result",
          "data": {
            "text/html": [
              "\n",
              "  <div id=\"df-41bb5ff8-bcc2-462b-9c61-47c14ed2f7a9\">\n",
              "    <div class=\"colab-df-container\">\n",
              "      <div>\n",
              "<style scoped>\n",
              "    .dataframe tbody tr th:only-of-type {\n",
              "        vertical-align: middle;\n",
              "    }\n",
              "\n",
              "    .dataframe tbody tr th {\n",
              "        vertical-align: top;\n",
              "    }\n",
              "\n",
              "    .dataframe thead th {\n",
              "        text-align: right;\n",
              "    }\n",
              "</style>\n",
              "<table border=\"1\" class=\"dataframe\">\n",
              "  <thead>\n",
              "    <tr style=\"text-align: right;\">\n",
              "      <th></th>\n",
              "      <th>Unit price</th>\n",
              "      <th>Quantity</th>\n",
              "      <th>Tax 5%</th>\n",
              "      <th>Total</th>\n",
              "      <th>cogs</th>\n",
              "      <th>gross margin percentage</th>\n",
              "      <th>gross income</th>\n",
              "      <th>Rating</th>\n",
              "    </tr>\n",
              "    <tr>\n",
              "      <th>Month</th>\n",
              "      <th></th>\n",
              "      <th></th>\n",
              "      <th></th>\n",
              "      <th></th>\n",
              "      <th></th>\n",
              "      <th></th>\n",
              "      <th></th>\n",
              "      <th></th>\n",
              "    </tr>\n",
              "  </thead>\n",
              "  <tbody>\n",
              "    <tr>\n",
              "      <th>1</th>\n",
              "      <td>6349.53</td>\n",
              "      <td>685</td>\n",
              "      <td>1841.9585</td>\n",
              "      <td>38681.1285</td>\n",
              "      <td>36839.17</td>\n",
              "      <td>566.666667</td>\n",
              "      <td>1841.9585</td>\n",
              "      <td>842.3</td>\n",
              "    </tr>\n",
              "    <tr>\n",
              "      <th>2</th>\n",
              "      <td>5430.93</td>\n",
              "      <td>493</td>\n",
              "      <td>1421.9105</td>\n",
              "      <td>29860.1205</td>\n",
              "      <td>28438.21</td>\n",
              "      <td>447.619048</td>\n",
              "      <td>1421.9105</td>\n",
              "      <td>658.7</td>\n",
              "    </tr>\n",
              "    <tr>\n",
              "      <th>3</th>\n",
              "      <td>6845.03</td>\n",
              "      <td>681</td>\n",
              "      <td>1793.2915</td>\n",
              "      <td>37659.1215</td>\n",
              "      <td>35865.83</td>\n",
              "      <td>604.761905</td>\n",
              "      <td>1793.2915</td>\n",
              "      <td>888.2</td>\n",
              "    </tr>\n",
              "  </tbody>\n",
              "</table>\n",
              "</div>\n",
              "      <button class=\"colab-df-convert\" onclick=\"convertToInteractive('df-41bb5ff8-bcc2-462b-9c61-47c14ed2f7a9')\"\n",
              "              title=\"Convert this dataframe to an interactive table.\"\n",
              "              style=\"display:none;\">\n",
              "        \n",
              "  <svg xmlns=\"http://www.w3.org/2000/svg\" height=\"24px\"viewBox=\"0 0 24 24\"\n",
              "       width=\"24px\">\n",
              "    <path d=\"M0 0h24v24H0V0z\" fill=\"none\"/>\n",
              "    <path d=\"M18.56 5.44l.94 2.06.94-2.06 2.06-.94-2.06-.94-.94-2.06-.94 2.06-2.06.94zm-11 1L8.5 8.5l.94-2.06 2.06-.94-2.06-.94L8.5 2.5l-.94 2.06-2.06.94zm10 10l.94 2.06.94-2.06 2.06-.94-2.06-.94-.94-2.06-.94 2.06-2.06.94z\"/><path d=\"M17.41 7.96l-1.37-1.37c-.4-.4-.92-.59-1.43-.59-.52 0-1.04.2-1.43.59L10.3 9.45l-7.72 7.72c-.78.78-.78 2.05 0 2.83L4 21.41c.39.39.9.59 1.41.59.51 0 1.02-.2 1.41-.59l7.78-7.78 2.81-2.81c.8-.78.8-2.07 0-2.86zM5.41 20L4 18.59l7.72-7.72 1.47 1.35L5.41 20z\"/>\n",
              "  </svg>\n",
              "      </button>\n",
              "      \n",
              "  <style>\n",
              "    .colab-df-container {\n",
              "      display:flex;\n",
              "      flex-wrap:wrap;\n",
              "      gap: 12px;\n",
              "    }\n",
              "\n",
              "    .colab-df-convert {\n",
              "      background-color: #E8F0FE;\n",
              "      border: none;\n",
              "      border-radius: 50%;\n",
              "      cursor: pointer;\n",
              "      display: none;\n",
              "      fill: #1967D2;\n",
              "      height: 32px;\n",
              "      padding: 0 0 0 0;\n",
              "      width: 32px;\n",
              "    }\n",
              "\n",
              "    .colab-df-convert:hover {\n",
              "      background-color: #E2EBFA;\n",
              "      box-shadow: 0px 1px 2px rgba(60, 64, 67, 0.3), 0px 1px 3px 1px rgba(60, 64, 67, 0.15);\n",
              "      fill: #174EA6;\n",
              "    }\n",
              "\n",
              "    [theme=dark] .colab-df-convert {\n",
              "      background-color: #3B4455;\n",
              "      fill: #D2E3FC;\n",
              "    }\n",
              "\n",
              "    [theme=dark] .colab-df-convert:hover {\n",
              "      background-color: #434B5C;\n",
              "      box-shadow: 0px 1px 3px 1px rgba(0, 0, 0, 0.15);\n",
              "      filter: drop-shadow(0px 1px 2px rgba(0, 0, 0, 0.3));\n",
              "      fill: #FFFFFF;\n",
              "    }\n",
              "  </style>\n",
              "\n",
              "      <script>\n",
              "        const buttonEl =\n",
              "          document.querySelector('#df-41bb5ff8-bcc2-462b-9c61-47c14ed2f7a9 button.colab-df-convert');\n",
              "        buttonEl.style.display =\n",
              "          google.colab.kernel.accessAllowed ? 'block' : 'none';\n",
              "\n",
              "        async function convertToInteractive(key) {\n",
              "          const element = document.querySelector('#df-41bb5ff8-bcc2-462b-9c61-47c14ed2f7a9');\n",
              "          const dataTable =\n",
              "            await google.colab.kernel.invokeFunction('convertToInteractive',\n",
              "                                                     [key], {});\n",
              "          if (!dataTable) return;\n",
              "\n",
              "          const docLinkHtml = 'Like what you see? Visit the ' +\n",
              "            '<a target=\"_blank\" href=https://colab.research.google.com/notebooks/data_table.ipynb>data table notebook</a>'\n",
              "            + ' to learn more about interactive tables.';\n",
              "          element.innerHTML = '';\n",
              "          dataTable['output_type'] = 'display_data';\n",
              "          await google.colab.output.renderOutput(dataTable, element);\n",
              "          const docLink = document.createElement('div');\n",
              "          docLink.innerHTML = docLinkHtml;\n",
              "          element.appendChild(docLink);\n",
              "        }\n",
              "      </script>\n",
              "    </div>\n",
              "  </div>\n",
              "  "
            ],
            "text/plain": [
              "       Unit price  Quantity  ...  gross income  Rating\n",
              "Month                        ...                      \n",
              "1         6349.53       685  ...     1841.9585   842.3\n",
              "2         5430.93       493  ...     1421.9105   658.7\n",
              "3         6845.03       681  ...     1793.2915   888.2\n",
              "\n",
              "[3 rows x 8 columns]"
            ]
          },
          "metadata": {},
          "execution_count": 184
        }
      ]
    },
    {
      "cell_type": "code",
      "source": [
        "x = data_bulanan.index\n",
        "y = data_bulanan['gross income']\n",
        "\n",
        "total = integrate.trapz(y,x)\n",
        "print('Total Gross Income on Jan - Mar:',total)"
      ],
      "metadata": {
        "colab": {
          "base_uri": "https://localhost:8080/"
        },
        "id": "grnQKV2Kjbfp",
        "outputId": "6bab583d-f8c9-4fa0-d3a2-232168d4ad23"
      },
      "execution_count": 185,
      "outputs": [
        {
          "output_type": "stream",
          "name": "stdout",
          "text": [
            "Total Gross Income on Jan - Mar: 3239.5355\n"
          ]
        }
      ]
    },
    {
      "cell_type": "code",
      "source": [
        "data_bulanan['gross income'].sum()"
      ],
      "metadata": {
        "colab": {
          "base_uri": "https://localhost:8080/"
        },
        "id": "-0BmwmM2jduK",
        "outputId": "d475c07d-af42-4b7c-fedb-3684150cf391"
      },
      "execution_count": 186,
      "outputs": [
        {
          "output_type": "execute_result",
          "data": {
            "text/plain": [
              "5057.1605"
            ]
          },
          "metadata": {},
          "execution_count": 186
        }
      ]
    },
    {
      "cell_type": "markdown",
      "source": [
        "#### Luas area lingkaran"
      ],
      "metadata": {
        "id": "-GW8Ux91jgAx"
      }
    },
    {
      "cell_type": "code",
      "source": [
        "from scipy.integrate import trapz\n",
        "import numpy as np\n",
        "\n",
        "R=30\n",
        "x=np.linspace(-R,R,200)\n",
        "\n",
        "upper = np.sqrt(R**2 - x**2)\n",
        "lower = -upper"
      ],
      "metadata": {
        "id": "chanpiOcjjEZ"
      },
      "execution_count": 187,
      "outputs": []
    },
    {
      "cell_type": "code",
      "source": [
        "import matplotlib.pyplot as plt\n",
        "fig,ax = plt.subplots(figsize=(6,6))\n",
        "ax.plot(x,upper)\n",
        "ax.plot(x,lower)"
      ],
      "metadata": {
        "colab": {
          "base_uri": "https://localhost:8080/",
          "height": 0
        },
        "id": "FZD7LpyMjlEi",
        "outputId": "4d45332a-a74a-4709-e434-35edeb509e19"
      },
      "execution_count": 188,
      "outputs": [
        {
          "output_type": "execute_result",
          "data": {
            "text/plain": [
              "[<matplotlib.lines.Line2D at 0x7fcaa59a4ad0>]"
            ]
          },
          "metadata": {},
          "execution_count": 188
        },
        {
          "output_type": "display_data",
          "data": {
            "image/png": "[encoded data removed]",
            "text/plain": [
              "<Figure size 432x432 with 1 Axes>"
            ]
          },
          "metadata": {
            "needs_background": "light"
          }
        }
      ]
    },
    {
      "cell_type": "code",
      "source": [
        "area = trapz(upper,x) - trapz(lower,x)\n",
        "\n",
        "print(area)"
      ],
      "metadata": {
        "colab": {
          "base_uri": "https://localhost:8080/"
        },
        "id": "85S4HQi4jmZh",
        "outputId": "0b6ca60a-c9bf-4d8f-c654-f12236c833f9"
      },
      "execution_count": 189,
      "outputs": [
        {
          "output_type": "stream",
          "name": "stdout",
          "text": [
            "2826.367344907366\n"
          ]
        }
      ]
    }
  ]
}